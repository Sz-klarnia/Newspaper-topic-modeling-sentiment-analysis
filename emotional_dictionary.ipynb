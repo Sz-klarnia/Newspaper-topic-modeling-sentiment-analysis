{
 "cells": [
  {
   "cell_type": "code",
   "execution_count": 1,
   "id": "falling-product",
   "metadata": {},
   "outputs": [],
   "source": [
    "import pandas as pd"
   ]
  },
  {
   "cell_type": "code",
   "execution_count": 2,
   "id": "armed-effect",
   "metadata": {},
   "outputs": [],
   "source": [
    "data = pd.read_csv(r\"C:\\Users\\szklarnia\\Desktop\\datascience\\projekty\\monitoring prasy\\plwordnet_4_2\\słownik_anotacji_emocjonlanej.csv\")"
   ]
  },
  {
   "cell_type": "code",
   "execution_count": 4,
   "id": "marine-balloon",
   "metadata": {},
   "outputs": [],
   "source": [
    "data = data[[\"lemat\",\"emocje\",\"stopien_nacechowania\"]]"
   ]
  },
  {
   "cell_type": "code",
   "execution_count": 11,
   "id": "closed-guinea",
   "metadata": {},
   "outputs": [
    {
     "name": "stderr",
     "output_type": "stream",
     "text": [
      "<ipython-input-11-3436613f0d69>:1: SettingWithCopyWarning: \n",
      "A value is trying to be set on a copy of a slice from a DataFrame\n",
      "\n",
      "See the caveats in the documentation: https://pandas.pydata.org/pandas-docs/stable/user_guide/indexing.html#returning-a-view-versus-a-copy\n",
      "  data.dropna(subset=[\"stopien_nacechowania\"],inplace=True)\n"
     ]
    }
   ],
   "source": [
    "data.dropna(subset=[\"stopien_nacechowania\"],inplace=True)"
   ]
  },
  {
   "cell_type": "code",
   "execution_count": 14,
   "id": "applied-electron",
   "metadata": {},
   "outputs": [],
   "source": [
    "data.to_csv(\"emotions.csv\")"
   ]
  }
 ],
 "metadata": {
  "kernelspec": {
   "display_name": "Python 3",
   "language": "python",
   "name": "python3"
  },
  "language_info": {
   "codemirror_mode": {
    "name": "ipython",
    "version": 3
   },
   "file_extension": ".py",
   "mimetype": "text/x-python",
   "name": "python",
   "nbconvert_exporter": "python",
   "pygments_lexer": "ipython3",
   "version": "3.8.3"
  }
 },
 "nbformat": 4,
 "nbformat_minor": 5
}
