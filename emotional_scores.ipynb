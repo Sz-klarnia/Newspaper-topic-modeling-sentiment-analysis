{
 "cells": [
  {
   "cell_type": "code",
   "execution_count": 1,
   "id": "reliable-volleyball",
   "metadata": {},
   "outputs": [],
   "source": [
    "# basic libraries\n",
    "import pandas as pd\n",
    "import numpy as np\n",
    "\n",
    "import matplotlib.pyplot as plt\n",
    "# NLP\n",
    "from sklearn.feature_extraction.text import CountVectorizer\n",
    "from wordcloud import WordCloud, STOPWORDS \n",
    "from langdetect import detect\n",
    "import spacy\n",
    "from collections import Counter\n",
    "import nltk\n",
    "from nltk.collocations import *"
   ]
  },
  {
   "cell_type": "code",
   "execution_count": 2,
   "id": "political-secret",
   "metadata": {},
   "outputs": [
    {
     "name": "stderr",
     "output_type": "stream",
     "text": [
      "b'Skipping line 1195: expected 5 fields, saw 9\\n'\n"
     ]
    }
   ],
   "source": [
    "data = {\"gazeta_pl\": pd.read_csv(r\"C:\\Users\\szklarnia\\Desktop\\datascience\\projekty\\monitoring prasy\\scraping_data\\gazeta_pl.csv\",sep=\"^\"),\n",
    "       \"oko_press\": pd.read_csv(r\"C:\\Users\\szklarnia\\Desktop\\datascience\\projekty\\monitoring prasy\\scraping_data\\Oko_press_all.csv\",sep=\"^\"),\n",
    "       \"onet\": pd.read_csv(r\"C:\\Users\\szklarnia\\Desktop\\datascience\\projekty\\monitoring prasy\\scraping_data\\onet.csv\",sep=\"^\",error_bad_lines=False),\n",
    "       \"wp\":pd.read_csv(r\"C:\\Users\\szklarnia\\Desktop\\datascience\\projekty\\monitoring prasy\\scraping_data\\wp.csv\",sep=\"^\",error_bad_lines=False),\n",
    "       \"wPolityce\":pd.read_csv(r\"C:\\Users\\szklarnia\\Desktop\\datascience\\projekty\\monitoring prasy\\scraping_data\\wPolityce.csv\",sep=\"^\"),\n",
    "       \"niezalezna\":pd.read_csv(r\"C:\\Users\\szklarnia\\Desktop\\datascience\\projekty\\monitoring prasy\\scraping_data\\niezalezna.csv\",sep=\"^\").rename({\"Content\\r\":\"Content\"},axis=1),\n",
    "       \"krypol\":pd.read_csv(r\"C:\\Users\\szklarnia\\Desktop\\datascience\\projekty\\monitoring prasy\\scraping_data\\krypol.csv\",sep=\"^\")}"
   ]
  },
  {
   "cell_type": "code",
   "execution_count": 3,
   "id": "extreme-marketplace",
   "metadata": {},
   "outputs": [],
   "source": [
    "# loading spacy model\n",
    "nlp = spacy.load(\"pl_core_news_lg\")"
   ]
  },
  {
   "cell_type": "code",
   "execution_count": 32,
   "id": "assigned-advocacy",
   "metadata": {},
   "outputs": [
    {
     "data": {
      "text/plain": [
       "str"
      ]
     },
     "execution_count": 32,
     "metadata": {},
     "output_type": "execute_result"
    }
   ],
   "source": [
    "type(nlp(\"ja\")[0].lemma_)"
   ]
  },
  {
   "cell_type": "code",
   "execution_count": 36,
   "id": "aggregate-midnight",
   "metadata": {},
   "outputs": [],
   "source": [
    "# loading emotional dictionary\n",
    "emotional_df = pd.read_csv(r\"emotions.csv\")"
   ]
  },
  {
   "cell_type": "code",
   "execution_count": 39,
   "id": "western-renewal",
   "metadata": {},
   "outputs": [],
   "source": [
    "emotional_df = emotional_df[emotional_df.stopien_nacechowania.isin([\"- m\",\"+ m\"])]"
   ]
  },
  {
   "cell_type": "code",
   "execution_count": 40,
   "id": "electoral-logic",
   "metadata": {},
   "outputs": [],
   "source": [
    "def count_emotional_value(text,emotional_df):\n",
    "    emotional_score = 0\n",
    "    values = {\"- m\":-4,\n",
    "             \"+ m\":4}\n",
    "    for word in text:\n",
    "        try:\n",
    "            value = values[emotional_df[emotional_df[\"lemat\"] == word].iloc[0].stopien_nacechowania]\n",
    "        except IndexError:\n",
    "            continue\n",
    "            \n",
    "        emotional_score += value\n",
    "            \n",
    "    return emotional_score"
   ]
  },
  {
   "cell_type": "code",
   "execution_count": 41,
   "id": "greek-stranger",
   "metadata": {},
   "outputs": [],
   "source": [
    "def preprocess_data(data,nlp,emotional_df):\n",
    "    \n",
    "    # process texts\n",
    "    data[\"processed\"] = [nlp(x) for x in data.Content.astype(\"str\")]\n",
    "    print(\"done 1\")\n",
    "    data[\"lemmatized\"] = [[x.lemma_ for x in text] for text in data.processed]\n",
    "    print(\"done 2\")\n",
    "    \n",
    "    \n",
    "    # computing emotional values of texts\n",
    "    data[\"emotional_value\"] = [count_emotional_value(x,emotional_df) for x in data.lemmatized]\n",
    "    \n",
    "    \n",
    "    return data"
   ]
  },
  {
   "cell_type": "code",
   "execution_count": 42,
   "id": "sufficient-jason",
   "metadata": {},
   "outputs": [
    {
     "name": "stdout",
     "output_type": "stream",
     "text": [
      "gazeta_pl\n",
      "done 1\n",
      "done 2\n",
      "oko_press\n",
      "done 1\n",
      "done 2\n",
      "onet\n",
      "done 1\n",
      "done 2\n",
      "wp\n",
      "done 1\n",
      "done 2\n",
      "wPolityce\n",
      "done 1\n",
      "done 2\n",
      "niezalezna\n",
      "done 1\n",
      "done 2\n",
      "krypol\n",
      "done 1\n",
      "done 2\n"
     ]
    }
   ],
   "source": [
    "for key in data.keys():\n",
    "    print(key)\n",
    "    data[key] = preprocess_data(data[key],nlp,emotional_df)"
   ]
  },
  {
   "cell_type": "code",
   "execution_count": 43,
   "id": "rolled-opportunity",
   "metadata": {
    "scrolled": false
   },
   "outputs": [
    {
     "name": "stdout",
     "output_type": "stream",
     "text": [
      "Positive 633 Negative 661\n"
     ]
    },
    {
     "data": {
      "image/png": "[encoded data removed]",
      "text/plain": [
       "<Figure size 432x288 with 1 Axes>"
      ]
     },
     "metadata": {
      "needs_background": "light"
     },
     "output_type": "display_data"
    },
    {
     "name": "stdout",
     "output_type": "stream",
     "text": [
      "Positive 166 Negative 119\n"
     ]
    },
    {
     "data": {
      "image/png": "[encoded data removed]",
      "text/plain": [
       "<Figure size 432x288 with 1 Axes>"
      ]
     },
     "metadata": {
      "needs_background": "light"
     },
     "output_type": "display_data"
    },
    {
     "name": "stdout",
     "output_type": "stream",
     "text": [
      "Positive 756 Negative 774\n"
     ]
    },
    {
     "data": {
      "image/png": "[encoded data removed]",
      "text/plain": [
       "<Figure size 432x288 with 1 Axes>"
      ]
     },
     "metadata": {
      "needs_background": "light"
     },
     "output_type": "display_data"
    },
    {
     "name": "stdout",
     "output_type": "stream",
     "text": [
      "Positive 621 Negative 893\n"
     ]
    },
    {
     "data": {
      "image/png": "[encoded data removed]",
      "text/plain": [
       "<Figure size 432x288 with 1 Axes>"
      ]
     },
     "metadata": {
      "needs_background": "light"
     },
     "output_type": "display_data"
    },
    {
     "name": "stdout",
     "output_type": "stream",
     "text": [
      "Positive 1129 Negative 841\n"
     ]
    },
    {
     "data": {
      "image/png": "[encoded data removed]",
      "text/plain": [
       "<Figure size 432x288 with 1 Axes>"
      ]
     },
     "metadata": {
      "needs_background": "light"
     },
     "output_type": "display_data"
    },
    {
     "name": "stdout",
     "output_type": "stream",
     "text": [
      "Positive 1544 Negative 1575\n"
     ]
    },
    {
     "data": {
      "image/png": "[encoded data removed]",
      "text/plain": [
       "<Figure size 432x288 with 1 Axes>"
      ]
     },
     "metadata": {
      "needs_background": "light"
     },
     "output_type": "display_data"
    },
    {
     "name": "stdout",
     "output_type": "stream",
     "text": [
      "Positive 31 Negative 19\n"
     ]
    },
    {
     "data": {
      "image/png": "[encoded data removed]",
      "text/plain": [
       "<Figure size 432x288 with 1 Axes>"
      ]
     },
     "metadata": {
      "needs_background": "light"
     },
     "output_type": "display_data"
    }
   ],
   "source": [
    "for key in data.keys():\n",
    "    # print amounts of articles in positive and negative class\n",
    "    print(\"Positive\",data[key][data[key].emotional_value > 0].Title.count(),\n",
    "          \"Negative\",data[key][data[key].emotional_value < 0].Title.count())\n",
    "    \n",
    "    # plot histogram to see the distribution of values\n",
    "    plt.hist(data[key].emotional_value)\n",
    "    plt.show()"
   ]
  },
  {
   "cell_type": "code",
   "execution_count": 44,
   "id": "martial-heaven",
   "metadata": {},
   "outputs": [
    {
     "data": {
      "text/plain": [
       "Szczepienie"
      ]
     },
     "execution_count": 44,
     "metadata": {},
     "output_type": "execute_result"
    }
   ],
   "source": [
    "data[\"gazeta_pl\"].processed[0][0]"
   ]
  },
  {
   "cell_type": "markdown",
   "id": "studied-england",
   "metadata": {},
   "source": [
    "We can split the articles by emotional score for positive and negative and pass preprocessed texts to a model for classification"
   ]
  },
  {
   "cell_type": "code",
   "execution_count": 45,
   "id": "crude-korea",
   "metadata": {},
   "outputs": [],
   "source": [
    "from sklearn.feature_extraction.text import CountVectorizer\n",
    "from sklearn.metrics import accuracy_score,f1_score\n",
    "from sklearn.model_selection import train_test_split\n",
    "# classificators\n",
    "from sklearn.linear_model import LogisticRegression\n",
    "from sklearn.pipeline import make_pipeline\n",
    "\n",
    "from tensorflow.python.keras.utils import np_utils\n",
    "# tensorflow and keras\n",
    "import keras\n",
    "from keras import regularizers, optimizers\n",
    "from keras.layers.experimental.preprocessing import TextVectorization\n",
    "from keras.layers import Activation, Embedding, Dense, Dropout, Input, LSTM,MaxPooling1D,Flatten,SpatialDropout1D,BatchNormalization, Conv1D\n",
    "from keras.models import Sequential\n",
    "from keras.initializers import Constant\n",
    "import tensorflow as tf\n",
    "from tensorflow.keras.preprocessing.text import Tokenizer\n",
    "from tensorflow.keras.preprocessing.sequence import pad_sequences\n",
    "from tensorflow.keras.callbacks import History,EarlyStopping, ModelCheckpoint\n",
    "from tensorflow.keras.preprocessing.text import one_hot"
   ]
  },
  {
   "cell_type": "code",
   "execution_count": 46,
   "id": "metric-isaac",
   "metadata": {},
   "outputs": [],
   "source": [
    "# creating lerning set\n",
    "\n",
    "learning_set = pd.DataFrame({\"Emotion\":[], \"Text\":[]})\n",
    "\n",
    "for key in data.keys():\n",
    "    # for each dataframe take emotional values and text, assign to new DF, append to learning set\n",
    "    \n",
    "    frame = pd.DataFrame({\"Emotion\":data[key].emotional_value,\"Text\":data[key].processed})\n",
    "    learning_set = learning_set.append(frame,ignore_index=True)"
   ]
  },
  {
   "cell_type": "code",
   "execution_count": null,
   "id": "unavailable-session",
   "metadata": {},
   "outputs": [],
   "source": [
    "learning"
   ]
  },
  {
   "cell_type": "code",
   "execution_count": 52,
   "id": "collective-walnut",
   "metadata": {},
   "outputs": [],
   "source": [
    "learning_set[\"Logistic\"] = [str([x.lemma_ for x in text]).replace(\"'\",\"\").replace(\",\",\"\").replace(\"[\",\"\").replace(\"]\",\"\")\\\n",
    "                            for text in learning_set.Text]\n",
    "learning_set[\"Text\"] = [[str(x) for x in text] for text in learning_set[\"Text\"]]"
   ]
  },
  {
   "cell_type": "code",
   "execution_count": 53,
   "id": "blocked-sodium",
   "metadata": {},
   "outputs": [],
   "source": [
    "learning_set.to_csv(\"learning_set.csv\",sep=\"^\")"
   ]
  },
  {
   "cell_type": "code",
   "execution_count": 27,
   "id": "removed-flash",
   "metadata": {},
   "outputs": [],
   "source": [
    "# drop NaNs from learning set\n",
    "learning_set.dropna(inplace=True)"
   ]
  },
  {
   "cell_type": "code",
   "execution_count": 29,
   "id": "funky-marketing",
   "metadata": {},
   "outputs": [],
   "source": [
    "# prepare target and features variable\n",
    "\n",
    "y = pd.Series([0 if x<0 else 1 for x in learning_set[\"Emotion\"]])\n",
    "y_log = pd.Series([0 if x<0 else 1 for x in learning_set[\"Emotion\"]])\n",
    "X_log = pd.Series(learning_set[\"Logistic\"])\n",
    "X = pd.Series(learning_set[\"Text\"])"
   ]
  },
  {
   "cell_type": "code",
   "execution_count": 30,
   "id": "vocational-gilbert",
   "metadata": {},
   "outputs": [],
   "source": [
    "# \n",
    "X_train,X_test,y_train,y_test = train_test_split(X,y,test_size=0.2)\n",
    "X_train_l,X_test_l,y_train_l,y_test_l = train_test_split(X_log,y_log,test_size=0.2)"
   ]
  },
  {
   "cell_type": "markdown",
   "id": "corrected-helen",
   "metadata": {},
   "source": [
    "Baseline model - logistic regression"
   ]
  },
  {
   "cell_type": "code",
   "execution_count": 31,
   "id": "connected-omega",
   "metadata": {},
   "outputs": [
    {
     "data": {
      "text/plain": [
       "0.8418502202643172"
      ]
     },
     "execution_count": 31,
     "metadata": {},
     "output_type": "execute_result"
    }
   ],
   "source": [
    "# fit the model on simple logistic regression to check wether the set is classifiable\n",
    "\n",
    "mdl = make_pipeline(CountVectorizer(),LogisticRegression(solver=\"liblinear\"))\n",
    "                    \n",
    "mdl.fit(X_train_l,y_train_l)\n",
    "mdl.score(X_test_l,y_test_l)"
   ]
  },
  {
   "cell_type": "code",
   "execution_count": 52,
   "id": "continuous-pasta",
   "metadata": {},
   "outputs": [],
   "source": [
    "# prepare train and test variables for tokenizing - make sure that every element is a string\n",
    "\n",
    "X_train_for_tokenizer = [[str(x) for x in y] for y in X_train] \n",
    "X_test_for_tokenizer = [[str(x) for x in y] for y in X_test] \n",
    "\n"
   ]
  },
  {
   "cell_type": "code",
   "execution_count": 192,
   "id": "demanding-prescription",
   "metadata": {},
   "outputs": [
    {
     "data": {
      "text/plain": [
       "355.0"
      ]
     },
     "execution_count": 192,
     "metadata": {},
     "output_type": "execute_result"
    }
   ],
   "source": [
    "# median length of textsw\n",
    "np.median([len(x) for x in X_train_for_tokenizer])"
   ]
  },
  {
   "cell_type": "code",
   "execution_count": 220,
   "id": "included-conservative",
   "metadata": {},
   "outputs": [],
   "source": [
    "# tokenizer with custom filter - does not filter out comas, stops, ? and !, as they can carry important insights\n",
    "t = Tokenizer(lower=False,filters='#$%&+-/<=>@[\\\\]^_`{|}~\\t\\n')\n",
    "t.fit_on_texts(X_train_for_tokenizer)\n",
    "\n",
    "# vocab size for embedding martix\n",
    "vocab_size = len(t.word_index) + 1\n",
    "\n",
    "# integer encode the documents\n",
    "encoded_docs = t.texts_to_sequences(X_train_for_tokenizer)\n",
    "encoded_test = t.texts_to_sequences(X_test_for_tokenizer)\n",
    "\n",
    "# variable for storing words with no vector representation\n",
    "no_vecs = []\n",
    "\n",
    "# number of embedding dimensions for spacy vectors\n",
    "embedding_dim = len(nlp('The').vector)\n",
    "\n",
    "# creating empty embedding matrix \n",
    "embedding_matrix = np.zeros((vocab_size, embedding_dim))\n",
    "# for earch word, appending embedding matrix with spacy vector\n",
    "for word,i in t.word_index.items():\n",
    "    embedding_matrix[i] = nlp(word).vector\n",
    "    # finding empty word vectors\n",
    "    if np.sum(nlp(word).vector) == 0:\n",
    "        no_vecs.append(word)\n",
    "\n",
    "# padding texts \n",
    "max_length = 1000\n",
    "padded_docs = pad_sequences(encoded_docs, maxlen=max_length, padding='post')\n",
    "padded_test = pad_sequences(encoded_test, maxlen=max_length, padding='post')\n",
    "\n",
    "    \n"
   ]
  },
  {
   "cell_type": "code",
   "execution_count": 247,
   "id": "secret-radius",
   "metadata": {},
   "outputs": [
    {
     "name": "stdout",
     "output_type": "stream",
     "text": [
      "Model: \"sequential_8\"\n",
      "_________________________________________________________________\n",
      "Layer (type)                 Output Shape              Param #   \n",
      "=================================================================\n",
      "embedding_8 (Embedding)      (None, 500, 300)          54412500  \n",
      "_________________________________________________________________\n",
      "lstm_15 (LSTM)               (None, 500, 100)          160400    \n",
      "_________________________________________________________________\n",
      "batch_normalization_1 (Batch (None, 500, 100)          400       \n",
      "_________________________________________________________________\n",
      "activation (Activation)      (None, 500, 100)          0         \n",
      "_________________________________________________________________\n",
      "dropout_19 (Dropout)         (None, 500, 100)          0         \n",
      "_________________________________________________________________\n",
      "lstm_16 (LSTM)               (None, 50)                30200     \n",
      "_________________________________________________________________\n",
      "batch_normalization_2 (Batch (None, 50)                200       \n",
      "_________________________________________________________________\n",
      "activation_1 (Activation)    (None, 50)                0         \n",
      "_________________________________________________________________\n",
      "dropout_20 (Dropout)         (None, 50)                0         \n",
      "_________________________________________________________________\n",
      "dense_12 (Dense)             (None, 10)                510       \n",
      "_________________________________________________________________\n",
      "batch_normalization_3 (Batch (None, 10)                40        \n",
      "_________________________________________________________________\n",
      "activation_2 (Activation)    (None, 10)                0         \n",
      "_________________________________________________________________\n",
      "dropout_21 (Dropout)         (None, 10)                0         \n",
      "_________________________________________________________________\n",
      "dense_13 (Dense)             (None, 1)                 11        \n",
      "=================================================================\n",
      "Total params: 54,604,261\n",
      "Trainable params: 54,603,941\n",
      "Non-trainable params: 320\n",
      "_________________________________________________________________\n"
     ]
    }
   ],
   "source": [
    "history = History()\n",
    "model = Sequential()\n",
    "model.add(Embedding(\n",
    "    vocab_size,\n",
    "    embedding_dim,\n",
    "    embeddings_initializer=Constant(embedding_matrix),\n",
    "    input_length = max_length,\n",
    "    trainable=True))\n",
    "model.add(LSTM(100,return_sequences=True))\n",
    "model.add(BatchNormalization())\n",
    "model.add(Activation(\"relu\"))\n",
    "model.add(Dropout(0.5))\n",
    "model.add(LSTM(100))\n",
    "model.add(BatchNormalization())\n",
    "model.add(Activation(\"relu\"))\n",
    "model.add(Dropout(0.5))\n",
    "model.add(Dense(50))\n",
    "model.add(BatchNormalization())\n",
    "model.add(Activation(\"relu\"))\n",
    "model.add(Dropout(0.5))\n",
    "model.add(Dense(10))\n",
    "model.add(BatchNormalization())\n",
    "model.add(Activation(\"relu\"))\n",
    "model.add(Dropout(0.5))\n",
    "model.add(Dense(1,activation=\"sigmoid\"))\n",
    "model.summary()"
   ]
  },
  {
   "cell_type": "code",
   "execution_count": 258,
   "id": "honey-aerospace",
   "metadata": {},
   "outputs": [
    {
     "name": "stdout",
     "output_type": "stream",
     "text": [
      "Epoch 1/50\n",
      "400/400 [==============================] - 764s 2s/step - loss: 0.7134 - accuracy: 0.5560 - val_loss: 0.6720 - val_accuracy: 0.5975\n"
     ]
    },
    {
     "ename": "MemoryError",
     "evalue": "",
     "output_type": "error",
     "traceback": [
      "\u001b[1;31m---------------------------------------------------------------------------\u001b[0m",
      "\u001b[1;31mMemoryError\u001b[0m                               Traceback (most recent call last)",
      "\u001b[1;32m<ipython-input-258-8cf80cc32293>\u001b[0m in \u001b[0;36m<module>\u001b[1;34m\u001b[0m\n\u001b[0;32m      3\u001b[0m \u001b[0msave_best_model\u001b[0m \u001b[1;33m=\u001b[0m \u001b[0mModelCheckpoint\u001b[0m\u001b[1;33m(\u001b[0m\u001b[1;34m\"sentiment.h5\"\u001b[0m\u001b[1;33m,\u001b[0m\u001b[0msave_best_only\u001b[0m\u001b[1;33m=\u001b[0m\u001b[1;32mTrue\u001b[0m\u001b[1;33m)\u001b[0m\u001b[1;33m\u001b[0m\u001b[1;33m\u001b[0m\u001b[0m\n\u001b[0;32m      4\u001b[0m \u001b[1;33m\u001b[0m\u001b[0m\n\u001b[1;32m----> 5\u001b[1;33m \u001b[0mmodel\u001b[0m\u001b[1;33m.\u001b[0m\u001b[0mfit\u001b[0m\u001b[1;33m(\u001b[0m\u001b[0mpadded_docs_half\u001b[0m\u001b[1;33m,\u001b[0m\u001b[0my_train\u001b[0m\u001b[1;33m,\u001b[0m\u001b[0mvalidation_split\u001b[0m\u001b[1;33m=\u001b[0m\u001b[1;36m0.2\u001b[0m\u001b[1;33m,\u001b[0m\u001b[0mbatch_size\u001b[0m\u001b[1;33m=\u001b[0m\u001b[1;36m8\u001b[0m\u001b[1;33m,\u001b[0m\u001b[0mepochs\u001b[0m\u001b[1;33m=\u001b[0m\u001b[1;36m50\u001b[0m\u001b[1;33m,\u001b[0m\u001b[0mcallbacks\u001b[0m\u001b[1;33m=\u001b[0m\u001b[1;33m[\u001b[0m\u001b[0mhistory\u001b[0m\u001b[1;33m,\u001b[0m\u001b[0msave_best_model\u001b[0m\u001b[1;33m]\u001b[0m\u001b[1;33m)\u001b[0m\u001b[1;33m\u001b[0m\u001b[1;33m\u001b[0m\u001b[0m\n\u001b[0m",
      "\u001b[1;32m~\\anaconda3\\lib\\site-packages\\tensorflow\\python\\keras\\engine\\training.py\u001b[0m in \u001b[0;36mfit\u001b[1;34m(self, x, y, batch_size, epochs, verbose, callbacks, validation_split, validation_data, shuffle, class_weight, sample_weight, initial_epoch, steps_per_epoch, validation_steps, validation_batch_size, validation_freq, max_queue_size, workers, use_multiprocessing)\u001b[0m\n\u001b[0;32m   1143\u001b[0m           \u001b[0mepoch_logs\u001b[0m\u001b[1;33m.\u001b[0m\u001b[0mupdate\u001b[0m\u001b[1;33m(\u001b[0m\u001b[0mval_logs\u001b[0m\u001b[1;33m)\u001b[0m\u001b[1;33m\u001b[0m\u001b[1;33m\u001b[0m\u001b[0m\n\u001b[0;32m   1144\u001b[0m \u001b[1;33m\u001b[0m\u001b[0m\n\u001b[1;32m-> 1145\u001b[1;33m         \u001b[0mcallbacks\u001b[0m\u001b[1;33m.\u001b[0m\u001b[0mon_epoch_end\u001b[0m\u001b[1;33m(\u001b[0m\u001b[0mepoch\u001b[0m\u001b[1;33m,\u001b[0m \u001b[0mepoch_logs\u001b[0m\u001b[1;33m)\u001b[0m\u001b[1;33m\u001b[0m\u001b[1;33m\u001b[0m\u001b[0m\n\u001b[0m\u001b[0;32m   1146\u001b[0m         \u001b[0mtraining_logs\u001b[0m \u001b[1;33m=\u001b[0m \u001b[0mepoch_logs\u001b[0m\u001b[1;33m\u001b[0m\u001b[1;33m\u001b[0m\u001b[0m\n\u001b[0;32m   1147\u001b[0m         \u001b[1;32mif\u001b[0m \u001b[0mself\u001b[0m\u001b[1;33m.\u001b[0m\u001b[0mstop_training\u001b[0m\u001b[1;33m:\u001b[0m\u001b[1;33m\u001b[0m\u001b[1;33m\u001b[0m\u001b[0m\n",
      "\u001b[1;32m~\\anaconda3\\lib\\site-packages\\tensorflow\\python\\keras\\callbacks.py\u001b[0m in \u001b[0;36mon_epoch_end\u001b[1;34m(self, epoch, logs)\u001b[0m\n\u001b[0;32m    426\u001b[0m     \u001b[1;32mfor\u001b[0m \u001b[0mcallback\u001b[0m \u001b[1;32min\u001b[0m \u001b[0mself\u001b[0m\u001b[1;33m.\u001b[0m\u001b[0mcallbacks\u001b[0m\u001b[1;33m:\u001b[0m\u001b[1;33m\u001b[0m\u001b[1;33m\u001b[0m\u001b[0m\n\u001b[0;32m    427\u001b[0m       \u001b[1;32mif\u001b[0m \u001b[0mgetattr\u001b[0m\u001b[1;33m(\u001b[0m\u001b[0mcallback\u001b[0m\u001b[1;33m,\u001b[0m \u001b[1;34m'_supports_tf_logs'\u001b[0m\u001b[1;33m,\u001b[0m \u001b[1;32mFalse\u001b[0m\u001b[1;33m)\u001b[0m\u001b[1;33m:\u001b[0m\u001b[1;33m\u001b[0m\u001b[1;33m\u001b[0m\u001b[0m\n\u001b[1;32m--> 428\u001b[1;33m         \u001b[0mcallback\u001b[0m\u001b[1;33m.\u001b[0m\u001b[0mon_epoch_end\u001b[0m\u001b[1;33m(\u001b[0m\u001b[0mepoch\u001b[0m\u001b[1;33m,\u001b[0m \u001b[0mlogs\u001b[0m\u001b[1;33m)\u001b[0m\u001b[1;33m\u001b[0m\u001b[1;33m\u001b[0m\u001b[0m\n\u001b[0m\u001b[0;32m    429\u001b[0m       \u001b[1;32melse\u001b[0m\u001b[1;33m:\u001b[0m\u001b[1;33m\u001b[0m\u001b[1;33m\u001b[0m\u001b[0m\n\u001b[0;32m    430\u001b[0m         \u001b[1;32mif\u001b[0m \u001b[0mnumpy_logs\u001b[0m \u001b[1;32mis\u001b[0m \u001b[1;32mNone\u001b[0m\u001b[1;33m:\u001b[0m  \u001b[1;31m# Only convert once.\u001b[0m\u001b[1;33m\u001b[0m\u001b[1;33m\u001b[0m\u001b[0m\n",
      "\u001b[1;32m~\\anaconda3\\lib\\site-packages\\tensorflow\\python\\keras\\callbacks.py\u001b[0m in \u001b[0;36mon_epoch_end\u001b[1;34m(self, epoch, logs)\u001b[0m\n\u001b[0;32m   1342\u001b[0m     \u001b[1;31m# pylint: disable=protected-access\u001b[0m\u001b[1;33m\u001b[0m\u001b[1;33m\u001b[0m\u001b[1;33m\u001b[0m\u001b[0m\n\u001b[0;32m   1343\u001b[0m     \u001b[1;32mif\u001b[0m \u001b[0mself\u001b[0m\u001b[1;33m.\u001b[0m\u001b[0msave_freq\u001b[0m \u001b[1;33m==\u001b[0m \u001b[1;34m'epoch'\u001b[0m\u001b[1;33m:\u001b[0m\u001b[1;33m\u001b[0m\u001b[1;33m\u001b[0m\u001b[0m\n\u001b[1;32m-> 1344\u001b[1;33m       \u001b[0mself\u001b[0m\u001b[1;33m.\u001b[0m\u001b[0m_save_model\u001b[0m\u001b[1;33m(\u001b[0m\u001b[0mepoch\u001b[0m\u001b[1;33m=\u001b[0m\u001b[0mepoch\u001b[0m\u001b[1;33m,\u001b[0m \u001b[0mlogs\u001b[0m\u001b[1;33m=\u001b[0m\u001b[0mlogs\u001b[0m\u001b[1;33m)\u001b[0m\u001b[1;33m\u001b[0m\u001b[1;33m\u001b[0m\u001b[0m\n\u001b[0m\u001b[0;32m   1345\u001b[0m \u001b[1;33m\u001b[0m\u001b[0m\n\u001b[0;32m   1346\u001b[0m   \u001b[1;32mdef\u001b[0m \u001b[0m_should_save_on_batch\u001b[0m\u001b[1;33m(\u001b[0m\u001b[0mself\u001b[0m\u001b[1;33m,\u001b[0m \u001b[0mbatch\u001b[0m\u001b[1;33m)\u001b[0m\u001b[1;33m:\u001b[0m\u001b[1;33m\u001b[0m\u001b[1;33m\u001b[0m\u001b[0m\n",
      "\u001b[1;32m~\\anaconda3\\lib\\site-packages\\tensorflow\\python\\keras\\callbacks.py\u001b[0m in \u001b[0;36m_save_model\u001b[1;34m(self, epoch, logs)\u001b[0m\n\u001b[0;32m   1394\u001b[0m                     filepath, overwrite=True, options=self._options)\n\u001b[0;32m   1395\u001b[0m               \u001b[1;32melse\u001b[0m\u001b[1;33m:\u001b[0m\u001b[1;33m\u001b[0m\u001b[1;33m\u001b[0m\u001b[0m\n\u001b[1;32m-> 1396\u001b[1;33m                 \u001b[0mself\u001b[0m\u001b[1;33m.\u001b[0m\u001b[0mmodel\u001b[0m\u001b[1;33m.\u001b[0m\u001b[0msave\u001b[0m\u001b[1;33m(\u001b[0m\u001b[0mfilepath\u001b[0m\u001b[1;33m,\u001b[0m \u001b[0moverwrite\u001b[0m\u001b[1;33m=\u001b[0m\u001b[1;32mTrue\u001b[0m\u001b[1;33m,\u001b[0m \u001b[0moptions\u001b[0m\u001b[1;33m=\u001b[0m\u001b[0mself\u001b[0m\u001b[1;33m.\u001b[0m\u001b[0m_options\u001b[0m\u001b[1;33m)\u001b[0m\u001b[1;33m\u001b[0m\u001b[1;33m\u001b[0m\u001b[0m\n\u001b[0m\u001b[0;32m   1397\u001b[0m             \u001b[1;32melse\u001b[0m\u001b[1;33m:\u001b[0m\u001b[1;33m\u001b[0m\u001b[1;33m\u001b[0m\u001b[0m\n\u001b[0;32m   1398\u001b[0m               \u001b[1;32mif\u001b[0m \u001b[0mself\u001b[0m\u001b[1;33m.\u001b[0m\u001b[0mverbose\u001b[0m \u001b[1;33m>\u001b[0m \u001b[1;36m0\u001b[0m\u001b[1;33m:\u001b[0m\u001b[1;33m\u001b[0m\u001b[1;33m\u001b[0m\u001b[0m\n",
      "\u001b[1;32m~\\anaconda3\\lib\\site-packages\\tensorflow\\python\\keras\\engine\\training.py\u001b[0m in \u001b[0;36msave\u001b[1;34m(self, filepath, overwrite, include_optimizer, save_format, signatures, options, save_traces)\u001b[0m\n\u001b[0;32m   1999\u001b[0m     \"\"\"\n\u001b[0;32m   2000\u001b[0m     \u001b[1;31m# pylint: enable=line-too-long\u001b[0m\u001b[1;33m\u001b[0m\u001b[1;33m\u001b[0m\u001b[1;33m\u001b[0m\u001b[0m\n\u001b[1;32m-> 2001\u001b[1;33m     save.save_model(self, filepath, overwrite, include_optimizer, save_format,\n\u001b[0m\u001b[0;32m   2002\u001b[0m                     signatures, options, save_traces)\n\u001b[0;32m   2003\u001b[0m \u001b[1;33m\u001b[0m\u001b[0m\n",
      "\u001b[1;32m~\\anaconda3\\lib\\site-packages\\tensorflow\\python\\keras\\saving\\save.py\u001b[0m in \u001b[0;36msave_model\u001b[1;34m(model, filepath, overwrite, include_optimizer, save_format, signatures, options, save_traces)\u001b[0m\n\u001b[0;32m    151\u001b[0m           \u001b[1;34m'to the Tensorflow SavedModel format (by setting save_format=\"tf\") '\u001b[0m\u001b[1;33m\u001b[0m\u001b[1;33m\u001b[0m\u001b[0m\n\u001b[0;32m    152\u001b[0m           'or using `save_weights`.')\n\u001b[1;32m--> 153\u001b[1;33m     hdf5_format.save_model_to_hdf5(\n\u001b[0m\u001b[0;32m    154\u001b[0m         model, filepath, overwrite, include_optimizer)\n\u001b[0;32m    155\u001b[0m   \u001b[1;32melse\u001b[0m\u001b[1;33m:\u001b[0m\u001b[1;33m\u001b[0m\u001b[1;33m\u001b[0m\u001b[0m\n",
      "\u001b[1;32m~\\anaconda3\\lib\\site-packages\\tensorflow\\python\\keras\\saving\\hdf5_format.py\u001b[0m in \u001b[0;36msave_model_to_hdf5\u001b[1;34m(model, filepath, overwrite, include_optimizer)\u001b[0m\n\u001b[0;32m    116\u001b[0m     \u001b[1;32mfor\u001b[0m \u001b[0mk\u001b[0m\u001b[1;33m,\u001b[0m \u001b[0mv\u001b[0m \u001b[1;32min\u001b[0m \u001b[0mmodel_metadata\u001b[0m\u001b[1;33m.\u001b[0m\u001b[0mitems\u001b[0m\u001b[1;33m(\u001b[0m\u001b[1;33m)\u001b[0m\u001b[1;33m:\u001b[0m\u001b[1;33m\u001b[0m\u001b[1;33m\u001b[0m\u001b[0m\n\u001b[0;32m    117\u001b[0m       \u001b[1;32mif\u001b[0m \u001b[0misinstance\u001b[0m\u001b[1;33m(\u001b[0m\u001b[0mv\u001b[0m\u001b[1;33m,\u001b[0m \u001b[1;33m(\u001b[0m\u001b[0mdict\u001b[0m\u001b[1;33m,\u001b[0m \u001b[0mlist\u001b[0m\u001b[1;33m,\u001b[0m \u001b[0mtuple\u001b[0m\u001b[1;33m)\u001b[0m\u001b[1;33m)\u001b[0m\u001b[1;33m:\u001b[0m\u001b[1;33m\u001b[0m\u001b[1;33m\u001b[0m\u001b[0m\n\u001b[1;32m--> 118\u001b[1;33m         f.attrs[k] = json.dumps(\n\u001b[0m\u001b[0;32m    119\u001b[0m             v, default=json_utils.get_json_type).encode('utf8')\n\u001b[0;32m    120\u001b[0m       \u001b[1;32melse\u001b[0m\u001b[1;33m:\u001b[0m\u001b[1;33m\u001b[0m\u001b[1;33m\u001b[0m\u001b[0m\n",
      "\u001b[1;32mh5py\\_objects.pyx\u001b[0m in \u001b[0;36mh5py._objects.with_phil.wrapper\u001b[1;34m()\u001b[0m\n",
      "\u001b[1;32mh5py\\_objects.pyx\u001b[0m in \u001b[0;36mh5py._objects.with_phil.wrapper\u001b[1;34m()\u001b[0m\n",
      "\u001b[1;32m~\\anaconda3\\lib\\site-packages\\h5py\\_hl\\attrs.py\u001b[0m in \u001b[0;36m__setitem__\u001b[1;34m(self, name, value)\u001b[0m\n\u001b[0;32m     98\u001b[0m         \u001b[0muse\u001b[0m \u001b[0mthe\u001b[0m \u001b[0mmethods\u001b[0m \u001b[0mcreate\u001b[0m\u001b[1;33m(\u001b[0m\u001b[1;33m)\u001b[0m \u001b[1;32mand\u001b[0m \u001b[0mmodify\u001b[0m\u001b[1;33m(\u001b[0m\u001b[1;33m)\u001b[0m\u001b[1;33m.\u001b[0m\u001b[1;33m\u001b[0m\u001b[1;33m\u001b[0m\u001b[0m\n\u001b[0;32m     99\u001b[0m         \"\"\"\n\u001b[1;32m--> 100\u001b[1;33m         \u001b[0mself\u001b[0m\u001b[1;33m.\u001b[0m\u001b[0mcreate\u001b[0m\u001b[1;33m(\u001b[0m\u001b[0mname\u001b[0m\u001b[1;33m,\u001b[0m \u001b[0mdata\u001b[0m\u001b[1;33m=\u001b[0m\u001b[0mvalue\u001b[0m\u001b[1;33m)\u001b[0m\u001b[1;33m\u001b[0m\u001b[1;33m\u001b[0m\u001b[0m\n\u001b[0m\u001b[0;32m    101\u001b[0m \u001b[1;33m\u001b[0m\u001b[0m\n\u001b[0;32m    102\u001b[0m     \u001b[1;33m@\u001b[0m\u001b[0mwith_phil\u001b[0m\u001b[1;33m\u001b[0m\u001b[1;33m\u001b[0m\u001b[0m\n",
      "\u001b[1;32m~\\anaconda3\\lib\\site-packages\\h5py\\_hl\\attrs.py\u001b[0m in \u001b[0;36mcreate\u001b[1;34m(self, name, data, shape, dtype)\u001b[0m\n\u001b[0;32m    178\u001b[0m             \u001b[1;31m# We need this to handle special string types.\u001b[0m\u001b[1;33m\u001b[0m\u001b[1;33m\u001b[0m\u001b[1;33m\u001b[0m\u001b[0m\n\u001b[0;32m    179\u001b[0m             \u001b[1;32mif\u001b[0m \u001b[1;32mnot\u001b[0m \u001b[0misinstance\u001b[0m\u001b[1;33m(\u001b[0m\u001b[0mdata\u001b[0m\u001b[1;33m,\u001b[0m \u001b[0mEmpty\u001b[0m\u001b[1;33m)\u001b[0m\u001b[1;33m:\u001b[0m\u001b[1;33m\u001b[0m\u001b[1;33m\u001b[0m\u001b[0m\n\u001b[1;32m--> 180\u001b[1;33m                 \u001b[0mdata\u001b[0m \u001b[1;33m=\u001b[0m \u001b[0mnumpy\u001b[0m\u001b[1;33m.\u001b[0m\u001b[0masarray\u001b[0m\u001b[1;33m(\u001b[0m\u001b[0mdata\u001b[0m\u001b[1;33m,\u001b[0m \u001b[0mdtype\u001b[0m\u001b[1;33m=\u001b[0m\u001b[0mdtype\u001b[0m\u001b[1;33m)\u001b[0m\u001b[1;33m\u001b[0m\u001b[1;33m\u001b[0m\u001b[0m\n\u001b[0m\u001b[0;32m    181\u001b[0m \u001b[1;33m\u001b[0m\u001b[0m\n\u001b[0;32m    182\u001b[0m             \u001b[1;31m# Make HDF5 datatype and dataspace for the H5A calls\u001b[0m\u001b[1;33m\u001b[0m\u001b[1;33m\u001b[0m\u001b[1;33m\u001b[0m\u001b[0m\n",
      "\u001b[1;32m~\\anaconda3\\lib\\site-packages\\numpy\\core\\_asarray.py\u001b[0m in \u001b[0;36masarray\u001b[1;34m(a, dtype, order)\u001b[0m\n\u001b[0;32m     81\u001b[0m \u001b[1;33m\u001b[0m\u001b[0m\n\u001b[0;32m     82\u001b[0m     \"\"\"\n\u001b[1;32m---> 83\u001b[1;33m     \u001b[1;32mreturn\u001b[0m \u001b[0marray\u001b[0m\u001b[1;33m(\u001b[0m\u001b[0ma\u001b[0m\u001b[1;33m,\u001b[0m \u001b[0mdtype\u001b[0m\u001b[1;33m,\u001b[0m \u001b[0mcopy\u001b[0m\u001b[1;33m=\u001b[0m\u001b[1;32mFalse\u001b[0m\u001b[1;33m,\u001b[0m \u001b[0morder\u001b[0m\u001b[1;33m=\u001b[0m\u001b[0morder\u001b[0m\u001b[1;33m)\u001b[0m\u001b[1;33m\u001b[0m\u001b[1;33m\u001b[0m\u001b[0m\n\u001b[0m\u001b[0;32m     84\u001b[0m \u001b[1;33m\u001b[0m\u001b[0m\n\u001b[0;32m     85\u001b[0m \u001b[1;33m\u001b[0m\u001b[0m\n",
      "\u001b[1;31mMemoryError\u001b[0m: "
     ]
    }
   ],
   "source": [
    "Adam = keras.optimizers.Adam(learning_rate=0.001, beta_1=0.9, beta_2=0.999, amsgrad=False)\n",
    "model.compile(loss=\"binary_crossentropy\",optimizer=Adam, metrics=[\"accuracy\"])\n",
    "save_best_model = ModelCheckpoint(\"sentiment.h5\",save_best_only=True)\n",
    "\n",
    "model.fit(padded_docs_half,y_train,validation_split=0.2,batch_size=8,epochs=50,callbacks=[history,save_best_model])\n"
   ]
  },
  {
   "cell_type": "markdown",
   "id": "freelance-consultancy",
   "metadata": {},
   "source": [
    "Test 1.: Sample size: 0.05 of training set, sequence_padding- 2020  \n",
    "history = History()  \n",
    "model = Sequential()  \n",
    "model.add(Embedding(vocab_size,300,weights=[embedding_matrix],input_length=2020,trainable=False,mask_zero=True))  \n",
    "model.add(LSTM(25))  \n",
    "model.add(BatchNormalization())  \n",
    "model.add(Dropout(0.7))  \n",
    "model.add(Dense(1,activation=\"sigmoid\"))  \n",
    "model.summary()  \n",
    "\n",
    "Good fit on test set, bad on valid. 143 epochs, loss: 0.415, acc: 0.83, val_loss: 0.9 val_acc = 0.475  \n",
    "\n",
    "Test 2: Sample size: 0.1 of training set  \n",
    "\n",
    "history = History()  \n",
    "model = Sequential()  \n",
    "model.add(Embedding(vocab_size,300,weights=[embedding_matrix],input_length=1200,trainable=False,mask_zero=True))  \n",
    "model.add(LSTM(100))  \n",
    "model.add(BatchNormalization())  \n",
    "model.add(Dropout(0.7))  \n",
    "model.add(Dense(1,activation=\"sigmoid\"))  \n",
    "model.summary()  \n",
    "\n",
    "43 epochs, loss: 0.3937 - accuracy: 0.8160 - val_loss: 0.9057 - val_accuracy: 0.4873\n",
    "\n",
    "Test 3: \n",
    "history = History()  \n",
    "model = Sequential()  \n",
    "model.add(Embedding(vocab_size,300,weights=[embedding_matrix],input_length=1200,trainable=False,mask_zero=True))  \n",
    "model.add(Conv1D(filters=100, kernel_size=3, padding='same', activation='relu'))  \n",
    "model.add(MaxPooling1D(pool_size=2))  \n",
    "model.add(LSTM(50))  \n",
    "model.add(BatchNormalization())  \n",
    "model.add(Dropout(0.5))  \n",
    "model.add(Dense(1,activation=\"sigmoid\"))  \n",
    "model.summary()  \n",
    "\n",
    "No better results achieved, stopped on 15 epoch\n",
    "\n"
   ]
  },
  {
   "cell_type": "code",
   "execution_count": null,
   "id": "wireless-religion",
   "metadata": {},
   "outputs": [],
   "source": []
  }
 ],
 "metadata": {
  "kernelspec": {
   "display_name": "Python 3",
   "language": "python",
   "name": "python3"
  },
  "language_info": {
   "codemirror_mode": {
    "name": "ipython",
    "version": 3
   },
   "file_extension": ".py",
   "mimetype": "text/x-python",
   "name": "python",
   "nbconvert_exporter": "python",
   "pygments_lexer": "ipython3",
   "version": "3.8.3"
  }
 },
 "nbformat": 4,
 "nbformat_minor": 5
}
