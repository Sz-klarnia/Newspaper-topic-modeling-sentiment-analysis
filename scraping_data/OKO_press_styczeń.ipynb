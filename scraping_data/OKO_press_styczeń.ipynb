{
 "cells": [
  {
   "cell_type": "code",
   "execution_count": 2,
   "metadata": {},
   "outputs": [],
   "source": [
    "\n",
    "import time\n",
    "from bs4 import BeautifulSoup\n",
    "import urllib.request,sys,time\n",
    "import requests\n",
    "import pandas as pd\n",
    "import re\n"
   ]
  },
  {
   "cell_type": "code",
   "execution_count": 2,
   "metadata": {
    "scrolled": false
   },
   "outputs": [],
   "source": [
    "# creating file, writing headers\n",
    "f = open(\"OKO_luty.csv\",\"w\",encoding=\"utf8\")\n",
    "headers = \"Title^Author^Date^Link^Content\\n\"\n",
    "f.write(headers)\n",
    "\n",
    "\n",
    "base_url = \"https://oko.press/kategoria/wydarzenia/strona/\"\n",
    "page_nr = 1\n",
    "month = \"lutego\"\n",
    "\n",
    "while \"stycznia\" not in month:\n",
    "    url = base_url + str(page_nr)\n",
    "    page = requests.get(url)\n",
    "    soup = BeautifulSoup(page.text, \"html.parser\")\n",
    "    \n",
    "    links = soup.find_all(\"div\", class_=\"block column post\")\n",
    "    \n",
    "    for link in links:\n",
    "        # getting informations from page\n",
    "        author = link.find(\"a\", rel=\"author\").text\n",
    "        date = link.find(\"time\").text\n",
    "        if \"lutego\" not in date:\n",
    "            continue\n",
    "        url_page = link.find(\"a\", class_=\"img\").get(\"href\")\n",
    "        title = link.find(\"h2\").text\n",
    "        title = title.strip().replace(\"\\n\",\"\")\n",
    "        \n",
    "        # requesting and parsing article\n",
    "        article_page = requests.get(url_page)\n",
    "        soup_page = BeautifulSoup(article_page.text, \"html.parser\")\n",
    "        # getting article content\n",
    "        try:\n",
    "            excerpt = soup_page.find(\"div\", class_=\"excerpt\").text\n",
    "        except AttributeError:\n",
    "            excerpt = \"\"\n",
    "        content = excerpt + \" \"\n",
    "        texts = soup_page.find(\"div\",class_=\"entry-content\")\n",
    "        texts = texts.find_all(\"p\")\n",
    "        for i in range(0,len(texts)-1):\n",
    "            content += texts[i].text + \" \"\n",
    "        content = content.strip().replace(\"\\n\",\"\")\n",
    "        content = content.replace(\"\\xa0\",\" \")        \n",
    "        \n",
    "        f.write(title + \"^\" + author + \"^\" + date + \"^\" + url_page + \"^\" + content + \"\\n\")\n",
    "    \n",
    "    page_nr +=1\n",
    "    month = date\n",
    "    \n",
    "f.close()\n",
    "        \n",
    "        \n",
    "    \n",
    "        \n",
    "    \n",
    "\n"
   ]
  },
  {
   "cell_type": "code",
   "execution_count": 3,
   "metadata": {},
   "outputs": [],
   "source": [
    "# creating file, writing headers\n",
    "f = open(\"OKO_luty_analizy.csv\",\"w\",encoding=\"utf8\")\n",
    "headers = \"Title^Author^Date^Link^Content\\n\"\n",
    "f.write(headers)\n",
    "\n",
    "\n",
    "base_url = \"https://oko.press/kategoria/analizy-sondaze/strona/\"\n",
    "page_nr = 1\n",
    "month = \"luty\"\n",
    "\n",
    "while \"stycznia\" not in month:\n",
    "    url = base_url + str(page_nr)\n",
    "    page = requests.get(url)\n",
    "    soup = BeautifulSoup(page.text, \"html.parser\")\n",
    "    \n",
    "    links = soup.find_all(\"div\", class_=\"block column post\")\n",
    "    \n",
    "    for link in links:\n",
    "        # getting informations from page\n",
    "        author = link.find(\"a\", rel=\"author\").text\n",
    "        date = link.find(\"time\").text\n",
    "        if \"lutego\" not in date:\n",
    "            continue\n",
    "        url_page = link.find(\"a\", class_=\"img\").get(\"href\")\n",
    "        title = link.find(\"h2\").text\n",
    "        title = title.strip().replace(\"\\n\",\"\")\n",
    "        \n",
    "        # requesting and parsing article\n",
    "        article_page = requests.get(url_page)\n",
    "        soup_page = BeautifulSoup(article_page.text, \"html.parser\")\n",
    "        # getting article content\n",
    "        try:\n",
    "            excerpt = soup_page.find(\"div\", class_=\"excerpt\").text\n",
    "        except AttributeError:\n",
    "            excerpt = \"\"\n",
    "        \n",
    "        content = excerpt + \" \"\n",
    "        texts = soup_page.find(\"div\",class_=\"entry-content\")\n",
    "        texts = texts.find_all(\"p\")\n",
    "        for i in range(0,len(texts)-1):\n",
    "            content += texts[i].text + \" \"\n",
    "        content = content.strip().replace(\"\\n\",\"\")\n",
    "        content = content.replace(\"\\xa0\",\" \")\n",
    "        \n",
    "        f.write(title + \"^\" + author + \"^\" + date + \"^\" + url_page + \"^\" + content + \"\\n\")\n",
    "    \n",
    "    page_nr +=1\n",
    "    month = date\n",
    "    \n",
    "f.close()"
   ]
  },
  {
   "cell_type": "code",
   "execution_count": 17,
   "metadata": {},
   "outputs": [
    {
     "data": {
      "text/plain": [
       "'https://oko.press/beda-kolejne-pandemie-bendyk-o-przyszlosci-swiata/'"
      ]
     },
     "execution_count": 17,
     "metadata": {},
     "output_type": "execute_result"
    }
   ],
   "source": [
    "url_page"
   ]
  },
  {
   "cell_type": "code",
   "execution_count": 3,
   "metadata": {},
   "outputs": [],
   "source": [
    "data = pd.read_csv(r\"OKO_luty.csv\",sep=\"^\")\n",
    "data1 = pd.read_csv(r\"OKO_luty_analizy.csv\",sep=\"^\")\n"
   ]
  },
  {
   "cell_type": "code",
   "execution_count": 4,
   "metadata": {},
   "outputs": [],
   "source": [
    "data = data.append(data1,ignore_index=True)"
   ]
  },
  {
   "cell_type": "code",
   "execution_count": 5,
   "metadata": {},
   "outputs": [
    {
     "data": {
      "text/plain": [
       "'Nigdy nie będziesz szła sama to pierwsza wystawa w kraju dokumentująca twórczość zrywu obywatelskiego przeciwstawiającego się fundamentalizmowi religijnemu. Ekspozycja w Labiryncie ma być manifestem solidarności z kobietami, które wyszły na ulice żądając wolności wyboru oraz prawa do decydowania o własnym życiu. Ekspozycja w lubelskiej galerii Labirynt (13.12.2020 – 30.04.2021) została zorganizowana przez Nadię Wójcik i Waldemara Tatarczuka. Kamera OKO.press była na wystawie:  Masowe strajki, które wybuchły po decyzji Trybunału Konstytucyjnego z 22 października 2020 roku, jeszcze zaostrzającego prawo aborcyjne w Polsce, to nie tylko masy ludzi na ulicach ale i morze haseł i transparentów różnego rodzaju. Jest to autentyczny przykład sztuki publicznej tworzonej oddolnie przez tysiące obywatelek i obywateli. Sztuka mas ku pokrzepieniu i radości serc strapionych autorytaryzmem państwa PiS-u. Galeria Labirynt przygotowała wystawę eksponującą te rewolucyjne wizerunki ruchu protestu, który przejdzie do historii i miejmy nadzieję, zmieni oblicze tego kraju.  W galerii możemy zobaczyć wybór różnorodnych materiałów, które towarzyszyły strajkom kobiet: transparenty, hasła, kartony, wlepki, grafiki, plakaty, dokumentacje fotograficzne i wideo z demonstracji. 30 października 2020 Wszystkie one zostały zebrane w największej sali Labiryntu. Powstała jedna wielka multimedialna instalacja, która otacza widza. Na jednej ścianie wyklejonej fotografiami z protestów zgromadzono masę plakatów i kartonów z efektownymi hasłami. Powstała niezwykła i barwna polityczna mozaika znaków i słów; dzieło migotliwe znaczeniami i efektowne wizualnie. Ścianę tę koronuje wypchana kaczka przeszyta strzałą!   Pozostałe ściany sali pokrywają projekcje filmów oraz fotografie dokumentujące strajki kobiet w Lublinie i Krakowie. Wiele tych dokumentów Labirynt otrzymał z Archiwum Protestów Publicznych oraz z lubelskiego Domu Słów – oddziału ośrodka Brama Grodzka Teatr NN.  Wystawione kartony i transparenty pochodzą natomiast z demonstracji w Lublinie, Krakowie, Warszawie, Poznaniu i Gnieźnie. Zostały one przesłane do Labiryntu bezpośrednio przez uczestniczki protestów.  Najważniejszym jest, że materiały te można nadal przesyłać. Wystawa jest bowiem dziełem w procesie, które będzie się zmieniało wraz z nadchodzącymi kartonami i plakatami. Prace można przynosić do Galerii Labirynt osobiście, nadsyłać pocztą lub za pomocą transferu internetowego. W niektórych miastach zostaną zorganizowane specjalne zbiórki. Po zakończeniu wystawy wszystkie materiały trafią natomiast do wspomnianego Domu Słów i powstanie z nich ekspozycja stała. Dom Słów w Lublinie, założony przez Tomasza Pietrasiewicza, przechowuje wiele druków z czasów Solidarności, materiały OSK wpasują się zatem w profil tej instytucji dokumentującej wolność słowa.  27 stycznia 2021 Nigdy nie będziesz szła sama jest już drugim takim otwartym i demokratycznie kuratorowanym projektem w Labiryncie. Pierwsza była ważna ekspozycja Jesteśmy ludźmi trwająca w galerii od czerwca do października 2020 roku. Była to wystawa prac wizualnych ponad stu osób, które poruszyły temat społeczności LGBT+, homofobii i dyskryminacji ze względu na orientację seksualną. Również w tym przypadku uczestnicy sami przesyłali swoje realizacje, bez wcześniejszej selekcji kuratorskiej. W efekcie zebrano dzieła zarówno znanych artystek i artystów, jak i wielu aktywistów i osób, które wcześniej nie były pokazywane w galeriach.  Tak jak wystawa strajków kobiet reaguje na aktualne wydarzenia polityczne, tak i Jesteśmy Ludźmi było interwencyjną ekspozycją zbiorową powstałą w odpowiedzi na homofobiczną wypowiedź prezydenta RP Andrzeja Dudy, w której nieheteronormatywne obywatelki i obywateli nazywał ideologią LGBT. Nigdy nie będziesz szła sama i Jesteśmy ludźmi prezentują nowy model wystawiennictwa w Polsce, który proponuje Waldemar Tatarczuk. Nie chodzi już tylko o sztukę zaangażowaną społecznie i politycznie, ale wręcz twórczość interwencyjną. Jest to kuratorstwo interwencyjne (!), rodzaj akcji bezpośredniej poprzez instytucję sztuki. Wystawy zwykle przygotowuje się przez dwa lata, instytucje sztuki są powolne, a te dwa projekty zostały zbudowane w miesiąc w błyskawicznej reakcji na bulwersujące wydarzenia w kraju sprowokowane przez rządzących.  Jest to również kuratorstwo opozycyjne, solidaryzujące się z protestującymi i dyskryminowanymi, z ofiarami i przeciwnikami reżimu PiS-u. Postawa taka wymaga szybkości reakcji, efektywnej pracy zespołu, ale również odwagi, wszak mamy do czynienia z publiczną instytucją kultury, działającą wbrew nacjonalistycznej, patriarchalnej i homofobicznej ideologii Ministerstwa Kultury i Dziedzictwa Narodowego. Jest to instytucja sztuki, która odważyła się otwarcie przeciwstawić się partii tak jak protestujące kobiety.   Paradoks polega na tym, że opozycyjna Galeria Labirynt wzorowo wykonuje swoją pracę galerii sztuki współczesnej, czyli reagującej na współczesność. Ponadto zaangażowana jest w autentycznie demokratyczny patriotyzm, podobnie jak protestujące, domagające się prawa wyboru i równości osób LGBT.  Dlatego w ekspozycję Nigdy nie będziesz szła sama wprowadza wielki transparent, biało-czerwona wyszywana serweta z napisem WOLNA POLSKA. Ponadto otwarcie nastąpiło 13 grudnia, czyli w rocznicę wprowadzenia stanu wojennego. Autorzy projektu mają świadomość, że są częścią wielkiej historii walki o wolność w Polsce.  W sali Labiryntu wita nas również rzeźba wielkiej pięści z firmowym znakiem Strajku Kobiet czyli czerwoną błyskawicą. Dalej zaczyna jednak dominować humor i muzyka disco, oddająca ducha ulicznej rewolty. 14 grudnia 2020 Tragedią jest decyzja Trybunału Konstytucyjnego uznająca, że możliwość aborcji z powodu ciężkiego i nieodwracalnego upośledzenia płodu albo nieuleczalnej choroby zagrażającej jego życiu jest niezgodna z konstytucją.  Tragedią, która już dotyka kobiety, którym odmawia się aborcji jeszcze przed opublikowaniem wyroku. Jak zareagować na tak okrutną, nieludzką i irracjonalną decyzję państwa, podjętą ponadto w czasach pandemii?!  W aktach buntu, protestu i wściekłości OSK, dużą rolę odgrywa humor, często wulgarny humor, wszak sprawa dotyczy polityki obyczajowej czyli polityki seksualności. A w Polsce o seksie mówi się często za pomocą wulgaryzmów. Zatem one goszczą na wielu transparentach i kartonach, przynosząc radość z tej wystawy, zorganizowanej przecież z głęboko tragicznego powodu. Humor umożliwia mówienie o tym, o czym ciężko mówić, co wymyka się słowom i rozumowi, co należy do sfery tabu lub wielkiej tragedii. Decyzja Trybunału Konstytucyjnego jest takim dramatem dla wszystkich wolnych obywatelek i obywateli. Dlatego obok wściekłości właśnie humor umożliwia stworzenia języka buntu, który przełamie granice milczenia i absurdu, wywołanych autentyczną grozą tego, co państwo PiS-u chce nam uczynić, do czego chce zmusić kobiety.     Dlatego na wystawę wprowadza również inny baner z napisem „Śmiech Wrogom Ojczyzny”, a na kolorowej ścianie z plakatów i kartonów, uderzają właśnie te, które w tragiczny sposób mogą też rozśmieszyć. Są to hasła kultowe: „moja macica to nie kaplica”, „strach się ruchać”, „został tylko anal”, „piss off”, „pedały z kobietami”, „nie chcę być trumną”, „dość ciosów poniżej pasa”.  Na jednym z kartonów poniżej rysunku przeszytej błyskawicą głowy Kaczyńskiego napisano „Won parówo”, brutalnie odnosząc się do domniemanej homoseksualności prezesa PiS-u, która stanowi tabu w polskich mediach.   W sztuce publicznej OSK żadnego tabu jednak nie ma, jest czas aby wypowiedzieć wszystko i to w najbardziej dosadny sposób. Bunt trzeba zwerbalizować do końca. Tak jak strajkom towarzyszyła muzyka, tak obecna jest ona również w przestrzeni wystawy jako dostępny również na You Tube teledysk lubelskiej grupy Brokatowe Kocyki – „Jebać to wszystko, idziemy disco”. Poprzez takie multimedialne bombardowanie widza wystawa stara się oddać żywiołową atmosferę protestów, również ich dziką radość buntu, pełnię młodzieńczego życia.  To konieczny zabieg, gdyż pojawia się wątpliwość. Co oznacza galeryjna ekspozycja o jesiennych protestach OSK, czy nie jest to muzeifikacja, podsumowanie ruchu obywatelskiego, który już się zakończył? Takie mroczne myśli nadchodzą w środku zimy, gdy pogoda i lockdown uniemożliwiają demonstracje, a przede wszystkim gdy PiS planuje wprowadzenie mandatów, które trzeba będzie przyjąć od policji i zapłacić. Pojawia się lęk, a jeśli w najbliższych miesiącach państwo policyjne rozwinie się tak bardzo, że dalsze masowe protesty zostaną uniemożliwione, zredukowane? Na szczęście rytmy bluźnierczego i queerowego disco odsuwają tę melancholię i strach.  Ufam, że projekt Nigdy nie będziesz szła sama to nie muzeum ale właśnie manifestacja poprzez sztukę, która idzie pod dachem Galerii Labirynt, zastępując chwilowo odpoczywające i zbierające siły strajkujące. Dlatego wśród eksponatów wystawiono również zestawy do demonstracji: megafony, chusteczki i krople do przemywania oczu od gazu łzawiącego, gogle, butelkę z wodą, wlepki i zestaw haseł do wykrzykiwania. We wnętrzu galerii, możemy się poczuć jak w środku ulicznego strajku, jako jego uczestnicy.  18 listopada 2020 Ekspozycja skupia jak w soczewce kulturę wizualną i materialną OSK. Wszystkie te hasła, transparenty, plakaty i kartony, to autentyczna oddolna „ludowa” twórczość plastyczna towarzysząca demonstracjom. Nowy rodzaj sztuki publicznej, która rozkwita w Polsce lat 20 XXI wieku. To DEMO-GRAFIKA od greckiego słow demos oznaczającego lud, społeczność wolnych obywateli i graphikos oznaczającego rysowania i pisanie. DEMO-GRAFIKA OSK twórczo operuje znakami i słowami, łączy obraz z tekstem, jest pozbawiona jednej autorki/autora, a jednocześnie jest bardzo osobista. To dzieło zbiorowe, anonimowe, lecz także przejmująco prywatny głos kobiet, poruszający tak jak hasła „Nigdy nie będziesz szła sama” lub „Chcemy żyć, a nie tylko przeżyć”. Każdy komunikat tworzy jedna osoba a równocześnie podczas demonstracji staje się on częścią fali znaków, łączących się w jeden przekaz i głos protestu. DEMO-GRAFIKA OSK wyrasta z opozycji wobec autorytarnych i fundamentalistycznych rządów wrogich kobietom i mniejszościom, a Galeria Labirynt rozpoczęła proces jej dokumentacji. DEMO-GRAFIKA jest już teraz, a w przyszłości stanie się jeszcze bardziej przedmiotem badań, jako autonomiczne zjawisko wizualne, ale przede wszystkim jako świadectwo czasów. Trafi do muzeów etnograficznych i miejskich, będąc dokumentem historii politycznej i kulturowej.   W ramach wystawy Galeria Labirynt wystawia i archiwizuje symbole strajków kobiet, najczęściej wykorzystywane w nich rekwizyty. We wnętrzu sali rozstawione są takie przedmioty jak czarne parasolki, flagi biało-czerwone i czarne, okaleczone manekiny kobiet, pięść i błyskawice, sznury z biustonoszy, kaczki. W samym środku ekspozycji wisi jednak zaskakująca, podwieszona do sufitu, monumentalna metalowa abstrakcyjna konstrukcja. Jest to dzieło Fasada znanej artystki Moniki Sosnowskiej, pokazywana w instytucji od marca 2020 roku, które teraz staje się częścią Nigdy nie będziesz szła sama, wypełniając sam środek przestrzeni. Jak czytamy w informatorze, praca waży 1,24 tony i ma wysokość 7,28 metra. Jest metalową repliką fasady modernistycznego budynku z lat 60., którą artystka poddała trwającym 3 miesiące brutalnym operacjom; skręcaniu, zgniataniu, naciąganiu. Taka właśnie zdruzgotana forma stała się częścią projektu poświęconego ikonografii OSK, nabierając w tym kontekście zupełnie nowego znaczenia. Abstrakcyjną konstrukcję, refleksję na temat modernistycznej architektury, teraz można odczytywać jako alegorię zgniecionej wolności, przemocy, stłamszonych praw kobiet, lub nawet jako bardziej organiczną formę nawiązującą do wnętrza kobiecego ciała i jego deformacji.   Fasada w symboliczny sposób znakomicie zintegrowała się z aktywistyczną wystawą i dopełnia jej znaczenia, obydwie ekspozycje świetnie współgrają w jednym wnętrzu.  Jeżeli chodzi o nośniki to na wystawie dominują kartony i długie transparenty. W polskiej sztuce współczesnej roku 2020 te media zajmują ważne miejsce, w realizacjach tworzonych także przez indywidualnych artystów. Pisze się nawet o sztuce kartonów. Wiosną, podczas pierwszego lockdownu, sławę w Warszawie uzyskał Paweł Żukowski ze swoim cyklem Kartony 365, wystawiając z balkonów bloków mieszkalnych kartony z takimi hasłami jak „Damy radę”, „Żądamy testów”, dodającymi otuchy lub krytykującymi nieudolną i opresyjną politykę rządu w obliczu pierwszej fali epidemii.  Natomiast 6 maja odbyła się w Warszawie sławna akcjaList, podczas której artystyczny kolektyw niósł, z Poczty Głównej do Sejmu RP, 14-metrowy transparent – list z napisem „Żyć nie, umierać”. Był to protest środowisk artystycznych przeciwko wmuszanym przez rząd, absurdalnym i niebezpiecznym wyborom kopertowym. Członkami tego kolektywu byli Marta Czyż, Magda Drągowska, Michał Frydrych, Karolina Grzywnowicz, Kuba Rudziński, Julia Minasiewicz, Jan Możdżyński, Yulia Krivich, Weronika Zalewska i Paweł Żukowski.   19 maja 2020 W przypadku DEMO-GRAFIKI sytuacja jest inna, nie znamy nazwisk autorek i autorów poszczególnych kartonów i zapewne nigdy ich nie poznamy. Pomimo pojedynczych twórców są one dziełem grupowym społeczeństwa obywatelskiego. I na tym polega ich fenomen. Nawet najwspanialsze, najpiękniejsze i najbardziej pomysłowe znaki pozostaną bezosobowym świadectwem ruchu i pewnej epoki. W swej różnorodności wszystkie te materiały łączy jednak podobny surowy styl graffiti oraz talent językowy, zarówno w języku polskim, jak i angielskim. Hasła OSK brzmią jakby były stworzone przez najlepszych copywriterów. Wystawa w Labiryncie fascynuje możliwością czytania tych wszystkich zgromadzonych w jednej przestrzeni sloganów rewolucyjnych. 30 października 2020 Na zakończenie można zadać pytanie, jak w ogóle możliwa jest taka ekspozycja w galerii publicznej w Polsce 2020 roku, z coraz bardziej zmniejszającym się marginesem niezależności instytucjonalnej. PiS bardzo skutecznie penetruje swoją trucizną sądownictwo, media, edukację, naukę, wojsko, policję ale i kulturę, stopniowo ale skutecznie ograniczając przestrzeń instytucjonalnej wolności. Ministerstwo promuje model sztuki fundamentalistycznej takiej, jak straszny papież Jan Paweł II Jerzego Kaliny, rzucający w nas głazem i ociekający krwią przed Muzeum Narodowym w Warszawie.  24 września 2020 To, co najciekawsze wolnościowo i cywilizacyjnie, będzie się teraz w kraju działo w obszarze pozainstytucjonalnym tak jak OSK.  A jednak Galeria Labirynt konsekwentnie mówi władzy centralnej NIE i płaci za to cenę nie otrzymując dotacji od MKiDN. Między innymi tak właśnie wygląda cenzura w państwie PiS-u. Waldemar Tatarczuk zdecydował się realizować model instytucji krytycznej i w tej krytyczności bezkompromisowej. Jak mówi w wywiadzie w czasopiśmie Szum, zainspirowany jest modelem muzeum, stworzonym przez wybitnego polskiego historyka sztuki Piotra Piotrowskiego w książce Muzeum krytyczne (Rebis, 2011). Krytyczna instytucja sztuki to taka, która jest aktywnie zaangażowana we wszystkie debaty mające miejsce w demokracji, zabierająca głos w kluczowych kwestiach sfery publicznej, stojąc zawsze po stronie obrony wartości demokratycznych. Piotr Piotrowski stworzył ten model, gdy w 2010 roku był dyrektorem Muzeum Narodowego w Warszawie, z myślą o muzeach narodowych. Tymczasem to właśnie w dzisiaj, dekadę później, w Polsce zagrożonej autorytaryzmem, wykuwają się instytucje krytyczne, a obecna rzeczywistość pokazuje, które instytucje mają taką charyzmę i poczucie wolności od ideologii MKiDN. Wśród krytycznych instytucji sztuki są takie, które działają w miastach, gdzie władze samorządowe są niezależne od PiS-u, w związku z tym partia rządząca nie zdołała obsadzić stanowisk w kulturze swoimi poddańczymi dyrektorami – tak jak uczyniła to ze wszystkimi Muzeami Narodowymi, które specjalizują się teraz w nacjonalistycznych projektach. Muzea Narodowe podlegają bowiem bezpośrednio pod MKiDN, a galerie miejskie pod władze samorządowe.  Dlatego w takich wolnych lub opozycyjnych miastach zdołały ukształtować się w ciągu ostatnich lat autentycznie opozycyjne publiczne instytucje sztuki. Wizja Piotrowskiego się spełnia teraz! Jest to właśnie Galeria Labirynt w Lublinie. Galeria Arsenał w Poznaniu specjalizująca się w sztuce i wystawach dotyczących różnych form aktywizmu i ruchów mniejszościowych. Trafostacja Sztuki w Szczecinie, która aktualnie ozdobiła swoją fasadę kolorowym neonem Wolne Miasto Szczecin autorstwa Andrzeja Wasilewskiego i Mikołaja Iwańskiego.   Szanujmy te instytucje i wspierajmy je, bo nie wiadomo jak długo jeszcze przetrwają, działając w bardzo trudnych warunkach finansowych, kierowane przez progresywnych dyrektorów.   Refleksja o krytycznej instytucji sztuki prowokowała także do debat nad miastem krytycznym (!) Na wystawie Nigdy nie będziesz szła sama w Galerii Labirynt na fotografiach i filmach oglądamy demonstracje w różnych polskich miastach, widać tłumy na głównych ulicach i placach. OSK po raz pierwszy na taką skalę w tym kraju stworzył miasta i miasteczka krytyczne, zaangażowane w bezpośrednią demonstrację, odważne. Nie czas jeszcze na budowę muzeum, ale nie wątpię, że przyszłe pokolenia będą oglądały te kartony i transparenty z Labiryntu, tak jak my dzisiaj oglądamy eksponaty w Europejskim Centrum Solidarności w Gdańsku. Teraz jednak można przyjść do Labiryntu i nasycić się energią rewolty, czekając aż ponownie zaleje ona nasze miasta i miasteczka.  Ada, Mateusz Adamczyk, Darina Alster, Archiwum Protestów Publicznych (Michał Adamski, Łukasz Głowala, Marcin Kruk, Agata Kubis, Michalina Kuczyńska, Adam Lach, Alicja Lesiak, Rafał Milach, Joanna Musiał, Wojciech Radwański, Bartek Sadowski, Paweł Starzec, Grzegorz Wełnicki, Dawid Zieliński), Liwia Bargieł, Szymon Bereziński, Karolina Białasz, Amelia Bilińska, Joanna Borkowska, Martyna Borowiecka, Aleksandra Borzęcka, Brokatowe Kocyki, Paulina Byczek, Jagoda Cerkiewnik, Mateusz Chmiel, Monika Czarska, Kamila Czosnyk, Marta Czyż, Gabriela Deresz, Dom Słów, Adrianna Dras, Piotr Durbajło, Dziewuchy Berlin, Emily Falek, Kinga Gajewska, Iza Gawęcka, Katarzyna Górna, Matyáš Grimmich, Hekla Studio, Katarzyna Hołda, Łukasz Horbów, Tomasz Iwanek, Michał Jadczak, Lena Jungowska, Jan Jurczak, Bohdan Kamets, Robert @3rkaer Karaś, Anastasia Kashtalian, Bartłomiej Kiełbowicz, Justyna Kieruzalska, Kamil Kiewel, Michalina W. Klasik, Joanna Klikowicz, Dominika Knap, Kolektyw Anka, Kolektyw Łaski, Konsorcjum Praktyk Postartystycznych, Klaudia Kopczyńska, Daniel Kotowski, Jan Kowal, Mateusz Kowalczyk, Maja Krysiak, Natálie Kubíková, Filip Kucharczyk, Michał McFly Kucharski, Roksana Kularska-Król, Agata Lankamer, Agnieszka Leonczuk, Anka Leśniak, Patryk Linkiewicz, Izabela Maciejewska, Adela Madej, Malina, Světlana Malinová, Aurelia Mandziuk-Zajączkowska, Beata Marcinkowska, Karina Marusińska, Paulina Mirowska, Milito, Krzysztof Momot, Przemysław Mrowiński, Marta Niedbał, Dariusz Niedźwiedzki, Nina, no_pic_no_chat, Anna Olejarczyk, Krzysztof Oleksiak, Kateřina Olivová, Marta Ostajewska, Jakub Padula, Aleksandra Palacz, Nina Paszkowski, Agnieszka Pazdykiewicz, Martyna Pinkowska, Aleka Polis, Agnieszka Porczyńska, Krzysztof Powierża, Matej Pšenička, Paweł Puszkarski, Eva Pyshnyk, Karol Radziszewski, Polina Revunenko, Marta Romankiv, Magda Rożynek, Gregor Różański, Kinga Rusinek, Patrycja Rusinek, Martina Šikulová, Sonia Skowronek, Konrad Smoleński, Agata Sochocka, Mikołaj Starzyński, Liliana Strzelecka, Studio 55, Aga Szreder i Jakub Zwirek, Michał Szwaja, Tajskie Kwiatuszki, Tales of Taboos, Tomek, Danuta Turkiewicz, Dorota Walentynowicz, Ola Wasilewska, Justyna Welk, Paulina Winiarska, Natalia Wiśniewska, Damian Włodarkiewicz, Basia Woźniczka, Bartosz Wójcik, Nadia Wójcik, Agnieszka Wójtowicz, Kinga Wrona, Weronika Zalewska, Natalia Zawłocka, Augustyna Zelent, Kaja Zmysłowska, Janek Znajomski, Adrianna Zok, Joanna Zygmunt, Grzegorz Żukowski, Paweł Żukowski  Ada, Mateusz Adamczyk, Darina Alster, Archiwum Protestów Publicznych (Michał Adamski, Łukasz Głowala, Marcin Kruk, Agata Kubis, Michalina Kuczyńska, Adam Lach, Alicja Lesiak, Rafał Milach, Joanna Musiał, Wojciech Radwański, Bartek Sadowski, Paweł Starzec, Grzegorz Wełnicki, Dawid Zieliński), Liwia Bargieł, Szymon Bereziński, Karolina Białasz, Amelia Bilińska, Joanna Borkowska, Martyna Borowiecka, Aleksandra Borzęcka, Brokatowe Kocyki, Paulina Byczek, Jagoda Cerkiewnik, Mateusz Chmiel, Monika Czarska, Kamila Czosnyk, Marta Czyż, Gabriela Deresz, Dom Słów, Adrianna Dras, Piotr Durbajło, Dziewuchy Berlin, Emily Falek, Kinga Gajewska, Iza Gawęcka, Katarzyna Górna, Matyáš Grimmich, Hekla Studio, Katarzyna Hołda, Łukasz Horbów, Tomasz Iwanek, Michał Jadczak, Lena Jungowska, Jan Jurczak, Bohdan Kamets, Robert @3rkaer Karaś, Anastasia Kashtalian, Bartłomiej Kiełbowicz, Justyna Kieruzalska, Kamil Kiewel, Michalina W. Klasik, Joanna Klikowicz, Dominika Knap, Kolektyw Anka, Kolektyw Łaski, Konsorcjum Praktyk Postartystycznych, Klaudia Kopczyńska, Daniel Kotowski, Jan Kowal, Mateusz Kowalczyk, Maja Krysiak, Natálie Kubíková, Filip Kucharczyk, Michał McFly Kucharski, Roksana Kularska-Król, Agata Lankamer, Agnieszka Leonczuk, Anka Leśniak, Patryk Linkiewicz, Izabela Maciejewska, Adela Madej, Malina, Světlana Malinová, Aurelia Mandziuk-Zajączkowska, Beata Marcinkowska, Karina Marusińska, Paulina Mirowska, Milito, Krzysztof Momot, Przemysław Mrowiński, Marta Niedbał, Dariusz Niedźwiedzki, Nina, no_pic_no_chat, Anna Olejarczyk, Krzysztof Oleksiak, Kateřina Olivová, Marta Ostajewska, Jakub Padula, Aleksandra Palacz, Nina Paszkowski, Agnieszka Pazdykiewicz, Martyna Pinkowska, Aleka Polis, Agnieszka Porczyńska, Krzysztof Powierża, Matej Pšenička, Paweł Puszkarski, Eva Pyshnyk, Karol Radziszewski, Polina Revunenko, Marta Romankiv, Magda Rożynek, Gregor Różański, Kinga Rusinek, Patrycja Rusinek, Martina Šikulová, Sonia Skowronek, Konrad Smoleński, Agata Sochocka, Mikołaj Starzyński, Liliana Strzelecka, Studio 55, Aga Szreder i Jakub Zwirek, Michał Szwaja, Tajskie Kwiatuszki, Tales of Taboos, Tomek, Danuta Turkiewicz, Dorota Walentynowicz, Ola Wasilewska, Justyna Welk, Paulina Winiarska, Natalia Wiśniewska, Damian Włodarkiewicz, Basia Woźniczka, Bartosz Wójcik, Nadia Wójcik, Agnieszka Wójtowicz, Kinga Wrona, Weronika Zalewska, Natalia Zawłocka, Augustyna Zelent, Kaja Zmysłowska, Janek Znajomski, Adrianna Zok, Joanna Zygmunt, Grzegorz Żukowski, Paweł Żukowski  *Prof. Paweł Leszkowicz,Uniwersytet Adama Mickiewicza w Poznaniu. Historyk sztuki, wykładowca akademicki i niezależny kurator specjalizujący się w studiach LGBT+ w obszarze sztuki i kultury wizualnej. Autor wielu wystaw sztuki queer, w tym Miłość i demokracja (2006) w Centrum Sztuki Współczesnej Łaźnia w Gdańsku, Ars Homo Erotica (2010) w Muzeum Narodowym w Warszawie i Civil Partnerships. Feminist and Queer Art and Activism in the UK (2012) w University of Brighton Gallery. Wraz ze swoim mężem Tomaszem Kitlińskim uczestniczył w pionierskiej kampanii wizualnej Niech nas zobaczą (2003). Kobiety, Protesty, Kultura, Prawo i Sprawiedliwość, Trybunał Konstytucyjny, Ogólnopolski Strajk Kobiet'"
      ]
     },
     "execution_count": 5,
     "metadata": {},
     "output_type": "execute_result"
    }
   ],
   "source": [
    "data.Content[0]"
   ]
  },
  {
   "cell_type": "code",
   "execution_count": 6,
   "metadata": {},
   "outputs": [],
   "source": [
    "expressions = {\"OKO.press\":\"\"}\n",
    "for key, value in expressions.items():\n",
    "    data.Content = [x.replace(key,value) for x in data.Content]"
   ]
  },
  {
   "cell_type": "code",
   "execution_count": 45,
   "metadata": {},
   "outputs": [
    {
     "data": {
      "text/plain": [
       "'Linus Lewandowski przesiedział na dołku 40 godzin, po czym został wypuszczony z zarzutem naruszenia nietykalności policjanta. Babcia Kasia potraktowana bestialsko na komisariacie.  rozmawiało z jednym z mężczyzn, którzy przybili na drzwiach budynku Trybunału plakat OSK Dopiero w niedzielę 31 stycznia uwolniono wszystkich zatrzymanych podczas masowych protestów, które przetoczyły się przez Warszawę po opublikowaniu 27 stycznia wyroku TK Julii Przyłębskiej, praktycznie zakazującego w Polsce legalnej aborcji.  relacjonowało przebieg demonstracji. 29 stycznia 2021 28 stycznia 2021  rozmawiało z jednym z mężczyzn, którzy w czwartek wieczorem, 28 stycznia, razem z Klementyną Suchanow z Ogólnopolskiego Strajku Kobiet przeskoczyli przez płot i na drzwiach TK powiesili plakaty z symbolami Strajku Kobiet. „Przeskoczyliśmy we troje, ale to nie był tylko nasz protest. Czujemy się częścią tych tysięcy ludzi, którzy protestowali przy ogrodzeniu. To był akt nieposłuszeństwa obywatelskiego. Nie stawialiśmy oporu i od razu oświadczyliśmy, że poddajemy się i poniesiemy wszystkie konsekwencje” – mówi  Łukasz Stanek, znany jako Syriusz, aktywista klimatyczny z grupy Extinction Rebelion. To właśnie on, razem z Przemkiem Siewiorem, też z Extinction Rebelion, i Klementyną Suchanow przeskoczył w czwartek godzinie 19:00 przez płot na skwer przed Trybunałem. W rozmowie z nami podkreśla, że nigdzie się nie włamywał i nie zamierzał niczego niszczyć. Przybicie plakatu do „brzoskwiniowego budynku, w którym kiedyś mieścił się prawdziwy Trybunał Konstytucyjny” policja potraktowała jako przestępstwo zniszczenia mienia. Stanek, znany z protestów klimatycznych, podkreśla, że protestuje solidarnie z kobietami, bo pozbawia się je elementarnych praw człowieka. Aktywiści przybili pięcioma gwoździami plakat z napisem „Wczoraj Argentyna jutro Polska”. „Kobietom w Argentynie oddano prawa człowieka, a tymczasem w Polsce rękoma tzw. Trybunału faktycznie zdelegalizowano aborcję. To był nasz gest sprzeciwu. Nie wtargnęliśmy tam, aby zniszczyć cokolwiek. Nie po raz pierwszy w historii Polski, ktoś przeskakuje przez mur, żeby zamanifestować swój przeciw” – mówi  Stanek. „Stanęliśmy i poddaliśmy się. Kiedy wyprowadzono nas w miejsce, gdzie nie było już kamer, wykręcono nam ręce i zakuto w w kajdanki. Mówiliśmy, że to boli, że nie stawiamy oporu, powtarzaliśmy, że się wylegitymujemy – nie przestali. Trzymali nas przez godzinę. Dzwonili do przełożonych, bo nie wiedzieli jaki zarzut postawić” – relacjonuje. W końcu stwierdzili, że zarzucają im zniszczenia mienia poprzez przybicie pięciu gwoździ do drzwi, oraz naruszenie miru domowego. Ścigania domagać się miał administrator budynku. Dwóch aktywistów przewieziono najpierw na komisariat w Warszawie na ul. Żytniej, a potem do Grodziska Mazowieckiego. Policja tłumaczyła potem, że wywiezienie poza Warszawę wynikało z tego, że nie wiadomo było, ilu jeszcze będzie zatrzymanych tego dnia. „To specjalnie, żeby nie było solidemo [demonstracji solidarnościowej z zatrzymanymi, które odbywają się pod aresztami] i utrudnić prawnikom kontakt. Wyrecytowałem im przepis i natychmiast zażądałem obecności mojego prawnika. Nie od razu umożliwiono mi kontakt, a zareagowano dopiero na moje stanowcze żądanie i wyrecytowanie przepisów, które mówią o natychmiastowym dostępie do adwokata. Gdybym był młodszy, albo miał 17 lat, czułbym się mocno zagubiony” – mówi nam Stanek. Policja złożyła wniosek o zastosowanie środków w postaci dozoru. Stanek relacjonuje, że od prokuratorki najpierw usłyszał, że nie widzi do tego podstaw, ale jej szefostwo podejmie ostateczną decyzję. Po konsultacjach zdecydowano o dozorze policyjnym. „Zachowanie policji i ich reakcje są kompletnie nie adekwatne. Nie mamy czołgów, pałek ani tarcz. Nie jesteśmy kibolami, nie rzucamy w nich kostką brukową, nie rzucamy racami w czyjeś okna. Nie jesteśmy dla policji żadnym zagrożeniem. Teraz mamy raz w tygodniu być na Wilczej. To absurd, nigdzie nie zamierzamy uciekać, mieszkamy w Warszawie, nasze adresy są znane. To kolejny środek represji, ale efekt będzie odwrotny. Nie odpuścimy protestów” – podsumowuje Stanek. Klementyna Suchanow została zatrzymana na 24 godziny. Postawiono jej dwa zarzuty analogiczne do tych, które usłyszeli mężczyźni, oraz naruszenie nietykalności osobistej funkcjonariusza poprzez oblanie go czerwoną substancją. najbardziej podoba mi się \"rażące lekceważenie porządku\":), no i żal pana Gałązki, że ubrudził się w pracy wolna i gotowa pic.twitter.com/80svzJKv1S — Klementyna Suchanow (@KSuchanow) January 29, 2021  Linus Lewandowski to weteran ulicznych protestów. Pierwszy raz stał się szerzej znany podczas manifestacji po zatrzymaniu aktywistki Margot na Krakowskim Przedmieściu. Wskoczył wtedy na radiowóz. Od tamtej pory był już zatrzymywany kilkanaście razy. W piątek 29 stycznia zatrzymano go pod Domami Centrum. Policja interweniowała po tym, jak ubrany na czarno mężczyzna prysnął w ich kierunku gazem. Kiedy rzucili się za nim w pościg zatrzymali przy okazji ubranego w pomarańczową kurtkę Linusa, który stał nieopodal z tęczową flagą. Pod komendą w Nowym Dworze Linusa Lewandowskiego wspierali jego przyjaciele. „Jesteśmy przeciwko przemocy policyjnej. Demonstrujemy solidarność z osobami, które zostały bezprawnie porwane i są tu bezprawnie przetrzymywane” – mówił jeden z kolegów Linusa Lewandowskiego z grupy Homokomando, który demonstrował pod komendą z tęczową flagą. Nigdy przenigdy nie będziesz szedł sam! #uwolićporwanych#milicja#mamyprawodemonstrować#osk#LGBT#nowydwórmazowieckipic.twitter.com/T2LEFw1PsJ — Homokomando (@Homokomando2) January 30, 2021  Linusa wypuszczono dopiero po 40 godzinach. „Tym razem było dość spokojnie. Bardzo cieszyło mnie, gdy słyszałem odgłosy solidarnościowych demonstracji” – przekazał  tuż po swoim wypuszczeniu. Zapowiedział, że w przyszłym tygodniu zamierza z przyjaciółmi powołać „Fundację +48”, której celem będzie niesienie pomocy zatrzymanym w skali całej Polski. Szczegóły inicjatywy mają być przedstawione w najbliższym tygodniu. Policja zarzuca Linusowi zaatakowanie funkcjonariusza, choć według świadków nic takiego nie miało miejsca, a zatrzymano go, bo rzucał się w oczy trzymając tęczową flagę. Z filmów, które pojawiły się w internecie, wynika, że policjanci obezwładnili go razem z mężczyzną, który prysnął w nich gazem. Linus nie miał z nim jednak nic wspólnego. „Zarzuty są całkowicie fikcyjne. Nie naruszyłem nietykalności żadnego funkcjonariusza. Mam nadzieję, że prokurator szybko sformułuje akt oskarżenia i przekaże sprawę sądowi, który oczyści mnie z zarzutów. Że nie będzie czekał w nieskończoność – tak jak w sprawie wejścia na radiowóz 7 sierpnia, gdzie od 8 sierpnia w sprawie nie stało się absolutnie nic” – napisał Linus na swoim profilu na facebooku. Dodał, że trzymanie go przez tak długi czas było całkowicie bezzasadne, niezgodne z prawem. „Policja stwierdziła, że jest zagrożenie zatarcia śladów – nie wiem, miałbym znaleźć i pobić policjanta, żeby zmienił zeznania, czy włamać się na policję i wykasować nagrania, czy co? Co więcej – wiedząc, że zatrzymanie nie ma szans utrzymać się w sądzie – policja mojego zażalenia na zatrzymanie po prostu… nie wysłała do sądu” – napisał Linus. Drastyczną relację przekazała mediom Katarzyna Augustynek, znana z wielu protestów jako Babcia Kasia. Kobieta stanęła w obronie dziewczyny, którą zatrzymywała policja. Babci Kasi zarzucono, że uderzyła policjanta w plecy. Ona sama się tego wypiera, choć nie zaprzecza, że dotknęła policjanta. Film z jej zatrzymania zamieścił na twitterze poseł Piotr Borys. Interweniujemy ws zatrzymania „Babci Kasi” Według świadków była szarpana przez Policjanta. Staramy się wyjaśnić zdarzenie. Apeluję do @PolskaPolicja by nie blokować protestujących i pozwolić rozejść się do domów. Wg Konstytucji zgromadzenia w Polsce są legalne! pic.twitter.com/qdCaWfr0IJ — Piotr Borys (@piotr_borys) January 28, 2021  Najpierw przewieziono ją do komisariatu w Pruszkowie, gdzie miała być poniżona przez policjantki, które miały zerwać z niej rajstopy i ściągać jej majtki. Potem przerzucono ją do Piastowa. „Jechałam w nocy z gołymi nogami i tak było już do końca. Tam doznałam szykan od dwóch dyżurnych na komendzie, byłam szarpana i wyzywana np. »Zamknij mordę«. Dostałam śniadanie, którego nie mogłam skończyć, bo minął czas, i bardzo mało picia. Przerzucono mnie brutalnie do innej celi lodowatej, bez kurtki czy koca. Przez parę godzin dopominałam się głośno o picie i lekarstwa (mam choroby przewlekle) i o coś do ubrania. Do końca nie dostałam tych podstawowych rzeczy. W toalecie przez te 15 godzin byłam tylko dwa razy. Na przesłuchanie skuto mnie. Na stole stała nakierowana na mnie kamera i nagrywała. To tylko zarys wydarzeń” – przekazała Katarzyna Augustynek w relacji opublikowanej przez „Codziennik Feministyczny”. Kiedy udało nam się dziś do niej dodzwonić stwierdziła dziarsko, że już doszła do siebie. „Wzmocniła mnie wiadomość, że wypuszczono już wszystkich pozostałych, więc teraz jestem już na manifestacji pod siedzibą TVP przeciwko ich kłamstwom” – powiedziała . Manifestacje w całej Polsce relacjonowaliśmy na łamach  29 stycznia 2021 W czasie protestów policja przekonywała, że reaguje w uzasadnionych przypadkach, by zapewnić bezpieczeństwo „także pozostałym mieszkańcom miasta”. Powadzimy zabezpieczenie protestu tak, aby jego formuła była jak najmniej dokuczliwa dla innych osób. Oceniamy sytuację wyłącznie przez pryzmat zapewnienia bezpieczeństwa. Także bezpieczeństwa pozostałych mieszkańców naszego miasta. — Policja Warszawa (@Policja_KSP) January 29, 2021  W odpowiedzi na wpis powtarzały się ironiczne komentarze o tym, że chodzi tylko o jednego mieszkańca – Jarosława Kaczyńskiego, pod którego domem po raz kolejny pojawili się protestujący w piątek wieczorem. Dostępu do jego żoliborskiej willi broniły jednak szczelnie zgromadzone tam znaczne siły policji. Jeden z protestujących obliczył, że dom obstawiło około 100 radiowozów. Manifestujący po dojściu w pobliże domu prezesa PiS za namową Marty Lempart, liderki Ogólnopolskiego Strajku Kobiet, spokojnie się rozeszli. Na weekend zaniechano protestów w związku z organizacją 29. finału Wielkiej Orkiestry Świątecznej Pomocy. Policja i służby, Klementyna Suchanow, Prokuratura, aborcja Prawa kobiet'"
      ]
     },
     "execution_count": 45,
     "metadata": {},
     "output_type": "execute_result"
    }
   ],
   "source": [
    "data.Content[1]"
   ]
  },
  {
   "cell_type": "code",
   "execution_count": 8,
   "metadata": {},
   "outputs": [],
   "source": [
    "data.to_csv(\"OKO_press_all.csv\",sep=\"^\")"
   ]
  },
  {
   "cell_type": "code",
   "execution_count": null,
   "metadata": {},
   "outputs": [],
   "source": []
  }
 ],
 "metadata": {
  "kernelspec": {
   "display_name": "Python 3",
   "language": "python",
   "name": "python3"
  },
  "language_info": {
   "codemirror_mode": {
    "name": "ipython",
    "version": 3
   },
   "file_extension": ".py",
   "mimetype": "text/x-python",
   "name": "python",
   "nbconvert_exporter": "python",
   "pygments_lexer": "ipython3",
   "version": "3.8.3"
  }
 },
 "nbformat": 4,
 "nbformat_minor": 4
}
