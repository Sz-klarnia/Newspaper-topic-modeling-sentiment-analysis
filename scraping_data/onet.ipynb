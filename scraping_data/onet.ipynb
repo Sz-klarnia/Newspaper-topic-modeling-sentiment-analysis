{
 "cells": [
  {
   "cell_type": "code",
   "execution_count": 1,
   "id": "pretty-sellers",
   "metadata": {},
   "outputs": [],
   "source": [
    "\n",
    "import time\n",
    "from bs4 import BeautifulSoup\n",
    "import urllib.request,sys,time\n",
    "import requests\n",
    "import pandas as pd\n",
    "import re"
   ]
  },
  {
   "cell_type": "code",
   "execution_count": 2,
   "id": "raised-movie",
   "metadata": {},
   "outputs": [],
   "source": [
    "# creating file, writing headers\n",
    "f = open(\"Onet.csv\",\"w\",encoding=\"utf8\")\n",
    "headers = \"Title^Author^Date^Link^Content\\n\"\n",
    "f.write(headers)\n",
    "\n",
    "\n",
    "for i in range(1,29):\n",
    "    url = f\"https://wiadomosci.onet.pl/archiwum/2021-02-{i}\"\n",
    "    page = requests.get(url)\n",
    "    soup = BeautifulSoup(page.text,\"html.parser\")\n",
    "    \n",
    "    links = soup.find_all(\"a\",class_=\"itemTitle\")\n",
    "    for link in links:\n",
    "        url = link.get(\"href\")\n",
    "        page1 = requests.get(url)\n",
    "        while str(page1) != \"<Response [200]>\":\n",
    "            page1 = requests.get(url)\n",
    "        soup1 = BeautifulSoup(page1.text, \"html.parser\")\n",
    "        title = link.text\n",
    "        if \"pogoda\" in title or \"pogody\" in title:\n",
    "            continue\n",
    "        date = f\"2021-01-{i}\"\n",
    "        try:\n",
    "            author = soup1.find(\"span\", class_=\"name\").text\n",
    "        except:\n",
    "            author = \"none\"\n",
    "        \n",
    "        lead = soup1.find(\"div\",attrs={\"id\":\"lead\"}).text.strip()\n",
    "        content = lead + \" \"\n",
    "        txts = soup1.find_all(\"p\")\n",
    "        for p in txts:\n",
    "            text = p.text\n",
    "            content += text+\" \"\n",
    "        \n",
    "        content = content.strip().replace(\"\\n\",\"\")\n",
    "        content = content.replace(\"\\xa0\",\" \")\n",
    "        f.write(title + \"^\" + author + \"^\" + date + \"^\" + url + \"^\" + content + \"\\n\")\n",
    "        \n",
    "    \n",
    "f.close()"
   ]
  },
  {
   "cell_type": "code",
   "execution_count": 46,
   "id": "charming-efficiency",
   "metadata": {},
   "outputs": [
    {
     "name": "stderr",
     "output_type": "stream",
     "text": [
      "b'Skipping line 1852: expected 5 fields, saw 6\\n'\n"
     ]
    }
   ],
   "source": [
    "data = pd.read_csv(\"Onet.csv\",sep=\"^\",error_bad_lines=False)"
   ]
  },
  {
   "cell_type": "code",
   "execution_count": 49,
   "id": "protective-strain",
   "metadata": {},
   "outputs": [
    {
     "data": {
      "text/plain": [
       "'Konsolidacja części opozycji przynosi jej sondażowe zyski, ale PiS nadal jest na pierwszym miejscu – wynika z badania IBRiS dla \"Rzeczpospolitej\". Prawo i Sprawiedliwość w pierwszym sondażu w nowym roku wygrywa zarówno wtedy, gdy każda z opozycyjnych partii startuje osobno, jak i w przypadku częściowego ich zjednoczenia. W pierwszym wariancie badania \"Rzeczpospolitej\" sprawdzono, na jakie poparcie mogą liczyć partie, idąc pod własnymi szyldami. Zwycięża Zjednoczona Prawica (33,2 proc.), KO może liczyć na 20,6 proc. Ruch Szymona Hołowni - Polska 2050 - na 12,6 proc., Lewica zdobywa 7,7 proc. W Sejmie byłaby jeszcze Konfederacja z 6,4 proc. oraz Koalicja Polska–PSL z 5,2 proc. Niezdecydowanych jest aż 14,3 proc. Coraz głośniej mówi się o konsolidacji opozycji. \"Rz\" sprawdziła również taki wariant. PiS uzyskuje w nim 32,7 proc. głosów. Blok PO–Nowoczesna–Lewica ma 30,5 proc. Blok Szymona Hołowni i PSL – 14,5 proc. Konfederacja ma 7,5 proc. Niezdecydowanych – co jest bardzo ważne – jest nawet nieco więcej niż w wariancie pierwszym, czyli 14,8 proc. – Wszystkie warianty są możliwe. Możliwy jest szeroki blok, ale najbardziej prawdopodobne jest powstanie bloku centrum PO–PSL z Szymonem Hołownią i drugiego bloku Lewicy – prognozuje rozmówca \"Rzeczpospolitej\" z zarządu PO. O zjednoczenie się opozycji zapytano też polityków Koalicji Polskiej–PSL. – Wybory europejskie w 2019 r. pokazały, że jedna lista przegra z PiS. Poza wspólnotą celu musi być też wspólnota wartości. Dlatego już przed ostatnimi wyborami parlamentarnymi mówiliśmy, że dwa bloki opozycji dają szansę na zachowanie zarówno wspólnoty celu, jak i wspólnoty wartości. I naszym zdaniem jest to na ten moment najbardziej efektywne – mówi \"Rz\" Miłosz Motyka, rzecznik PSL. Sondaż pokazuje sytuację na starcie 2021 r. Dla PiS poza kwestiami bieżącymi, jak program szczepień, który wchodzi w decydującą fazę, liczy się teraz najbardziej nowy plan na ład po pandemii. – Tak duża liczba osób niezdecydowanych pokazuje, że po decyzji TK wyborcy, którzy odeszli od nas, nie znaleźli dla siebie nikogo – mówi w rozmowie z \"Rz\" poseł PiS. Przeczytaj więcej w artykule \"Rzeczpospolitej\"'"
      ]
     },
     "execution_count": 49,
     "metadata": {},
     "output_type": "execute_result"
    }
   ],
   "source": [
    "data.Content[0]"
   ]
  }
 ],
 "metadata": {
  "kernelspec": {
   "display_name": "Python 3",
   "language": "python",
   "name": "python3"
  },
  "language_info": {
   "codemirror_mode": {
    "name": "ipython",
    "version": 3
   },
   "file_extension": ".py",
   "mimetype": "text/x-python",
   "name": "python",
   "nbconvert_exporter": "python",
   "pygments_lexer": "ipython3",
   "version": "3.8.3"
  }
 },
 "nbformat": 4,
 "nbformat_minor": 5
}
